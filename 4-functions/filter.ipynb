{
 "cells": [
  {
   "cell_type": "code",
   "execution_count": null,
   "id": "e2ceac5d",
   "metadata": {},
   "outputs": [],
   "source": [
    "# filter function constructs an iterator \n",
    "# from elements of an iterable for which a function returns true\n",
    "# filters out items from a list based on conditions "
   ]
  },
  {
   "cell_type": "code",
   "execution_count": 1,
   "id": "aa2ccb80",
   "metadata": {},
   "outputs": [
    {
     "data": {
      "text/plain": [
       "True"
      ]
     },
     "execution_count": 1,
     "metadata": {},
     "output_type": "execute_result"
    }
   ],
   "source": [
    "def even(num):\n",
    "    if num % 2 == 0:\n",
    "        return True\n",
    "even(24)"
   ]
  },
  {
   "cell_type": "code",
   "execution_count": 4,
   "id": "7d4ef8f3",
   "metadata": {},
   "outputs": [
    {
     "name": "stdout",
     "output_type": "stream",
     "text": [
      "[2, 4, 6, 8, 10, 12]\n"
     ]
    }
   ],
   "source": [
    "lst = list(range(1,13))\n",
    "\n",
    "even_nums = list(filter(even,lst))\n",
    "print(even_nums)"
   ]
  },
  {
   "cell_type": "code",
   "execution_count": 5,
   "id": "d03eed4a",
   "metadata": {},
   "outputs": [
    {
     "data": {
      "text/plain": [
       "[6, 7, 8]"
      ]
     },
     "execution_count": 5,
     "metadata": {},
     "output_type": "execute_result"
    }
   ],
   "source": [
    "# filter with lambda\n",
    "\n",
    "nums = list(range(1,9))\n",
    "# create filter that selects nums > 5 \n",
    "list(filter(lambda x:x > 5,nums))"
   ]
  },
  {
   "cell_type": "code",
   "execution_count": 9,
   "id": "ddb6c891",
   "metadata": {},
   "outputs": [
    {
     "data": {
      "text/plain": [
       "[6, 8]"
      ]
     },
     "execution_count": 9,
     "metadata": {},
     "output_type": "execute_result"
    }
   ],
   "source": [
    "# filter with lambda with multiple conditions \n",
    "even_and_greater_than_5 = list(filter(lambda x:x > 5 and x % 2 == 0,nums))\n",
    "even_and_greater_than_5"
   ]
  },
  {
   "cell_type": "code",
   "execution_count": 12,
   "id": "7bcd7bc9",
   "metadata": {},
   "outputs": [
    {
     "data": {
      "text/plain": [
       "[{'name': 'jes', 'age': 34}]"
      ]
     },
     "execution_count": 12,
     "metadata": {},
     "output_type": "execute_result"
    }
   ],
   "source": [
    "# filter to check if age > 25 in dict \n",
    "\n",
    "people = [\n",
    "    {'name':'sam','age':24},\n",
    "    {'name':'jes','age':34}\n",
    "]\n",
    "\n",
    "def age_greater_than_25(person):\n",
    "    return person['age'] > 25\n",
    "\n",
    "list(filter(age_greater_than_25,people))"
   ]
  },
  {
   "cell_type": "code",
   "execution_count": null,
   "id": "8e509e75",
   "metadata": {},
   "outputs": [],
   "source": []
  }
 ],
 "metadata": {
  "kernelspec": {
   "display_name": "myenv",
   "language": "python",
   "name": "python3"
  },
  "language_info": {
   "codemirror_mode": {
    "name": "ipython",
    "version": 3
   },
   "file_extension": ".py",
   "mimetype": "text/x-python",
   "name": "python",
   "nbconvert_exporter": "python",
   "pygments_lexer": "ipython3",
   "version": "3.12.7"
  }
 },
 "nbformat": 4,
 "nbformat_minor": 5
}
