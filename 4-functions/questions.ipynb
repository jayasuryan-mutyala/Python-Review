{
 "cells": [
  {
   "cell_type": "code",
   "execution_count": 3,
   "id": "b8f9c6aa",
   "metadata": {},
   "outputs": [
    {
     "data": {
      "text/plain": [
       "34"
      ]
     },
     "execution_count": 3,
     "metadata": {},
     "output_type": "execute_result"
    }
   ],
   "source": [
    "# fibonacci sequence  \n",
    "\n",
    "# f(0) = 0\n",
    "# f(1) = 1 \n",
    "# f(2) = f(0) + f(1) = 1 \n",
    "\n",
    "def fib(n):\n",
    "    if n == 0:\n",
    "        return 0\n",
    "    elif n == 1:\n",
    "        return 1 \n",
    "    a,b = 0,1\n",
    "    for _ in range(1,n):\n",
    "        c = a + b \n",
    "        a = b \n",
    "        b = c\n",
    "    return b\n",
    "\n",
    "fib(9) # 36\n",
    "\n",
    "# n=3 \n",
    "# a = 0,b = 1\n",
    "# iter 1\n",
    "# c = 0 + 1 = 1 \n",
    "# a = 1\n",
    "# b = 1 \n",
    "# iter 2\n",
    "# c = 1 + 1 = 2 \n",
    "# a = 1\n",
    "# b = 2\n",
    "# iter 3 \n",
    "# c = 2 + 1 = 3\n",
    "# a = 2 \n",
    "# b = 3"
   ]
  },
  {
   "cell_type": "code",
   "execution_count": 4,
   "id": "181ce156",
   "metadata": {},
   "outputs": [
    {
     "data": {
      "text/plain": [
       "3"
      ]
     },
     "execution_count": 4,
     "metadata": {},
     "output_type": "execute_result"
    }
   ],
   "source": [
    "def fib(n):\n",
    "    if n == 0:\n",
    "        return 0 \n",
    "    elif n == 1:\n",
    "        return 1 \n",
    "    else:\n",
    "        return fib(n - 1) + fib(n - 2)\n",
    "\n",
    "fib(4)"
   ]
  },
  {
   "cell_type": "code",
   "execution_count": 6,
   "id": "70b02b2a",
   "metadata": {},
   "outputs": [
    {
     "name": "stdout",
     "output_type": "stream",
     "text": [
      "dict_items([('price', 12)]) dict_items([('price', 20)])\n"
     ]
    }
   ],
   "source": [
    "def add_item_dict(a={},b={}):\n",
    "    a['price'] = 12\n",
    "    b['price'] = 20\n",
    "    return a.items(),b.items()\n",
    "\n",
    "a,b = add_item_dict()\n",
    "print(a,b)\n"
   ]
  },
  {
   "cell_type": "code",
   "execution_count": 10,
   "id": "5f9845e8",
   "metadata": {},
   "outputs": [
    {
     "data": {
      "text/plain": [
       "{'val': 12}"
      ]
     },
     "execution_count": 10,
     "metadata": {},
     "output_type": "execute_result"
    }
   ],
   "source": [
    "def print_details(**kwargs):\n",
    "    return {key:val for key,val in kwargs.items() if isinstance(val,int)}\n",
    "print_details(key='samuel',val=12)"
   ]
  },
  {
   "cell_type": "code",
   "execution_count": 11,
   "id": "117f43ed",
   "metadata": {},
   "outputs": [
    {
     "name": "stdout",
     "output_type": "stream",
     "text": [
      "[0, 1, 4, 9, 16]\n"
     ]
    }
   ],
   "source": [
    "def apply_callback(callback,nums):\n",
    "    return [callback(num) for num in nums]\n",
    "\n",
    "nums = [int(num) for num in range(5)]\n",
    "\n",
    "print(apply_callback(lambda x:x**2,nums))"
   ]
  },
  {
   "cell_type": "code",
   "execution_count": 12,
   "id": "e9796a8e",
   "metadata": {},
   "outputs": [
    {
     "name": "stdout",
     "output_type": "stream",
     "text": [
      "4\n"
     ]
    }
   ],
   "source": [
    "def outer_fn():\n",
    "    def inner_fn(x):\n",
    "        return x**2\n",
    "    return inner_fn\n",
    "\n",
    "square = outer_fn()\n",
    "print(square(2))"
   ]
  },
  {
   "cell_type": "code",
   "execution_count": null,
   "id": "db7a7565",
   "metadata": {},
   "outputs": [],
   "source": [
    "import time \n",
    "\n"
   ]
  }
 ],
 "metadata": {
  "kernelspec": {
   "display_name": "myenv",
   "language": "python",
   "name": "python3"
  },
  "language_info": {
   "codemirror_mode": {
    "name": "ipython",
    "version": 3
   },
   "file_extension": ".py",
   "mimetype": "text/x-python",
   "name": "python",
   "nbconvert_exporter": "python",
   "pygments_lexer": "ipython3",
   "version": "3.12.7"
  }
 },
 "nbformat": 4,
 "nbformat_minor": 5
}
