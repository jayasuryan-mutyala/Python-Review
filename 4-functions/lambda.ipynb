{
 "cells": [
  {
   "cell_type": "code",
   "execution_count": null,
   "id": "29eb9939",
   "metadata": {},
   "outputs": [],
   "source": [
    "# lambda functions are small anonymous functions defined by the lambda keyword. \n",
    "# they can have any no of arguements but only one expression\n",
    "# They are commonly used for short operations or as arguements to higher order functions"
   ]
  },
  {
   "cell_type": "code",
   "execution_count": null,
   "id": "918fe50e",
   "metadata": {},
   "outputs": [],
   "source": [
    "# Syntax \n",
    "# lambda arguements:expression"
   ]
  },
  {
   "cell_type": "code",
   "execution_count": 1,
   "id": "0e5062a1",
   "metadata": {},
   "outputs": [
    {
     "data": {
      "text/plain": [
       "5"
      ]
     },
     "execution_count": 1,
     "metadata": {},
     "output_type": "execute_result"
    }
   ],
   "source": [
    "def addition(a,b):\n",
    "    return a +b \n",
    "addition(2,3)"
   ]
  },
  {
   "cell_type": "code",
   "execution_count": 3,
   "id": "819e2aa2",
   "metadata": {},
   "outputs": [
    {
     "name": "stdout",
     "output_type": "stream",
     "text": [
      "<class 'function'>\n",
      "2\n"
     ]
    }
   ],
   "source": [
    "addition = lambda a,b:a+b\n",
    "print(type(addition))\n",
    "print(addition(1,1))"
   ]
  },
  {
   "cell_type": "code",
   "execution_count": 5,
   "id": "88858573",
   "metadata": {},
   "outputs": [
    {
     "name": "stdout",
     "output_type": "stream",
     "text": [
      "True\n"
     ]
    }
   ],
   "source": [
    "even_fn = lambda a : a % 2 == 0\n",
    "even_fn(11)\n",
    "print(even_fn(2))"
   ]
  },
  {
   "cell_type": "code",
   "execution_count": 6,
   "id": "ec3b009a",
   "metadata": {},
   "outputs": [
    {
     "data": {
      "text/plain": [
       "39"
      ]
     },
     "execution_count": 6,
     "metadata": {},
     "output_type": "execute_result"
    }
   ],
   "source": [
    "def addition(a,b,c):\n",
    "    return a + b + c\n",
    "addition(12,13,14)"
   ]
  },
  {
   "cell_type": "code",
   "execution_count": 7,
   "id": "e2af1951",
   "metadata": {},
   "outputs": [
    {
     "data": {
      "text/plain": [
       "3"
      ]
     },
     "execution_count": 7,
     "metadata": {},
     "output_type": "execute_result"
    }
   ],
   "source": [
    "addition = lambda a,b,c:a+b+c\n",
    "addition(1,1,1)"
   ]
  },
  {
   "cell_type": "code",
   "execution_count": 8,
   "id": "fddf3164",
   "metadata": {},
   "outputs": [
    {
     "data": {
      "text/plain": [
       "[1, 4, 9, 16, 25, 36]"
      ]
     },
     "execution_count": 8,
     "metadata": {},
     "output_type": "execute_result"
    }
   ],
   "source": [
    "# map():applies a function to all items in the list \n",
    "nums = [1,2,3,4,5,6]\n",
    "# we want to find the square nums\n",
    "\n",
    "def square(num):\n",
    "    return num**2\n",
    "\n",
    "# first create a lambda fn for squaring all elements \n",
    "# lambda(x:x**2)\n",
    "# then apply map \n",
    "# map(lambda x:x**2,nums)\n",
    "\n",
    "list(map(lambda x:x**2,nums))\n",
    "\n"
   ]
  },
  {
   "cell_type": "code",
   "execution_count": null,
   "id": "e0db48cd",
   "metadata": {},
   "outputs": [],
   "source": [
    " "
   ]
  }
 ],
 "metadata": {
  "kernelspec": {
   "display_name": "myenv",
   "language": "python",
   "name": "python3"
  },
  "language_info": {
   "codemirror_mode": {
    "name": "ipython",
    "version": 3
   },
   "file_extension": ".py",
   "mimetype": "text/x-python",
   "name": "python",
   "nbconvert_exporter": "python",
   "pygments_lexer": "ipython3",
   "version": "3.12.7"
  }
 },
 "nbformat": 4,
 "nbformat_minor": 5
}
