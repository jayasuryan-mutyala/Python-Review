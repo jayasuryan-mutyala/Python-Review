{
 "cells": [
  {
   "cell_type": "code",
   "execution_count": null,
   "id": "ef6dbecd",
   "metadata": {},
   "outputs": [],
   "source": [
    "# function is a block of code that performs a specific task. \n",
    "# Helps in organizing code, reusing code\n",
    "# improving readability\n",
    "# def function_name(params):\n",
    "    # Function body \n",
    "    # return expression"
   ]
  },
  {
   "cell_type": "code",
   "execution_count": 1,
   "id": "66849f0a",
   "metadata": {},
   "outputs": [
    {
     "name": "stdout",
     "output_type": "stream",
     "text": [
      "num is even\n"
     ]
    }
   ],
   "source": [
    "# why functions \n",
    "num = 24\n",
    "if num % 2 == 0:\n",
    "    print(\"num is even\")\n",
    "else:\n",
    "    print(\"num is odd\")"
   ]
  },
  {
   "cell_type": "code",
   "execution_count": 2,
   "id": "95c17d54",
   "metadata": {},
   "outputs": [],
   "source": [
    "def even_or_odd(num):\n",
    "    if num % 2 == 0:\n",
    "        print('num is even')\n",
    "    else:\n",
    "        print('num is odd')"
   ]
  },
  {
   "cell_type": "code",
   "execution_count": 3,
   "id": "362d1072",
   "metadata": {},
   "outputs": [
    {
     "name": "stdout",
     "output_type": "stream",
     "text": [
      "num is even\n"
     ]
    }
   ],
   "source": [
    "even_or_odd(24)"
   ]
  },
  {
   "cell_type": "code",
   "execution_count": 1,
   "id": "3c956453",
   "metadata": {},
   "outputs": [
    {
     "name": "stdout",
     "output_type": "stream",
     "text": [
      "5\n"
     ]
    }
   ],
   "source": [
    "def add(a,b):\n",
    "    return a + b\n",
    "\n",
    "sum = add(2,3)\n",
    "print(sum)"
   ]
  },
  {
   "cell_type": "code",
   "execution_count": 2,
   "id": "1a134371",
   "metadata": {},
   "outputs": [
    {
     "name": "stdout",
     "output_type": "stream",
     "text": [
      "Hello surya Welcome\n"
     ]
    }
   ],
   "source": [
    "def greet(name):\n",
    "    print(f\"Hello {name} Welcome\")\n",
    "\n",
    "greet('surya') "
   ]
  },
  {
   "cell_type": "code",
   "execution_count": 3,
   "id": "f7f3184e",
   "metadata": {},
   "outputs": [
    {
     "name": "stdout",
     "output_type": "stream",
     "text": [
      "Hello sam welcome\n"
     ]
    }
   ],
   "source": [
    "def greet(name='sam'):\n",
    "    print(f\"Hello {name} welcome\")\n",
    "greet()"
   ]
  },
  {
   "cell_type": "code",
   "execution_count": null,
   "id": "466e64d2",
   "metadata": {},
   "outputs": [],
   "source": [
    "# Variable length arguements \n",
    "# positional and keyword arguements \n"
   ]
  },
  {
   "cell_type": "code",
   "execution_count": 6,
   "id": "e7cd703b",
   "metadata": {},
   "outputs": [],
   "source": [
    "# postional args: we can use *args, note *args has multiple params\n",
    "\n",
    "def print_nums(*args):\n",
    "    for num in args:\n",
    "        print(num)\n"
   ]
  },
  {
   "cell_type": "code",
   "execution_count": null,
   "id": "8df4b174",
   "metadata": {},
   "outputs": [
    {
     "name": "stdout",
     "output_type": "stream",
     "text": [
      "1\n",
      "2\n",
      "3\n",
      "4\n",
      "5\n",
      "6\n",
      "7\n",
      "args\n"
     ]
    }
   ],
   "source": [
    "print_nums(1,2,3,4,5,6,7,'args')\n",
    "# *args refers to all the args 1,2,3,4,5,6,.."
   ]
  },
  {
   "cell_type": "code",
   "execution_count": 8,
   "id": "47fa4ab7",
   "metadata": {},
   "outputs": [],
   "source": [
    "# keyword args \n",
    "# kwargs will be in key-val args\n",
    "def print_details(**kwargs):\n",
    "    for key,val in kwargs.items():\n",
    "        print(f\"{key}:{val}\")"
   ]
  },
  {
   "cell_type": "code",
   "execution_count": 9,
   "id": "b3d646cb",
   "metadata": {},
   "outputs": [
    {
     "name": "stdout",
     "output_type": "stream",
     "text": [
      "name:surya\n",
      "age:24\n",
      "country:India\n"
     ]
    }
   ],
   "source": [
    "print_details(name='surya',age=24,country='India')"
   ]
  },
  {
   "cell_type": "code",
   "execution_count": 13,
   "id": "871e295c",
   "metadata": {},
   "outputs": [
    {
     "name": "stdout",
     "output_type": "stream",
     "text": [
      "Positional arguements: 1\n",
      "Positional arguements: 2\n",
      "Positional arguements: 3\n",
      "Positional arguements: 4\n",
      "Positional arguements: 5\n",
      "Positional arguements: 56\n",
      "Positional arguements: 6\n",
      "Positional arguements: 6\n",
      "Positional arguements: args\n",
      "name:s\n",
      "age:23\n",
      "grade:A+\n"
     ]
    }
   ],
   "source": [
    "# writing a function that has both positional and keyword args\n",
    "\n",
    "def print_details(*args,**kwargs):\n",
    "    for num in args:\n",
    "        print('Positional arguements:',num)\n",
    "    for key,val in kwargs.items():\n",
    "        print(f\"{key}:{val}\")\n",
    "\n",
    "print_details(1,2,3,4,5,56,6,6,'args',name='s',age=23,grade='A+')"
   ]
  },
  {
   "cell_type": "code",
   "execution_count": 14,
   "id": "5fdf8597",
   "metadata": {},
   "outputs": [
    {
     "data": {
      "text/plain": [
       "(6, 2)"
      ]
     },
     "execution_count": 14,
     "metadata": {},
     "output_type": "execute_result"
    }
   ],
   "source": [
    "def multiply(a,b):\n",
    "    return a*b,a\n",
    "\n",
    "multiply(2,3)"
   ]
  },
  {
   "cell_type": "code",
   "execution_count": null,
   "id": "dffe5faf",
   "metadata": {},
   "outputs": [],
   "source": [
    "def temp(temp,unit):\n",
    "    '''This function converts celsius to farnheit'''\n",
    "    "
   ]
  }
 ],
 "metadata": {
  "kernelspec": {
   "display_name": "myenv",
   "language": "python",
   "name": "python3"
  },
  "language_info": {
   "codemirror_mode": {
    "name": "ipython",
    "version": 3
   },
   "file_extension": ".py",
   "mimetype": "text/x-python",
   "name": "python",
   "nbconvert_exporter": "python",
   "pygments_lexer": "ipython3",
   "version": "3.12.7"
  }
 },
 "nbformat": 4,
 "nbformat_minor": 5
}
