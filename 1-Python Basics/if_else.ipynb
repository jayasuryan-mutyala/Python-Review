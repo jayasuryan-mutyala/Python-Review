{
 "cells": [
  {
   "cell_type": "code",
   "execution_count": 1,
   "id": "f6b6e3fd",
   "metadata": {},
   "outputs": [
    {
     "name": "stdout",
     "output_type": "stream",
     "text": [
      "You can vote in elections\n"
     ]
    }
   ],
   "source": [
    "# if statement\n",
    "age = 20\n",
    "if age >= 18:\n",
    "    print(\"You can vote in elections\")"
   ]
  },
  {
   "cell_type": "code",
   "execution_count": 2,
   "id": "0534dc59",
   "metadata": {},
   "outputs": [
    {
     "name": "stdout",
     "output_type": "stream",
     "text": [
      "Your a minor\n"
     ]
    }
   ],
   "source": [
    "# else \n",
    "# The else statement executes a block of code if the condition in the if statement is false\n",
    "\n",
    "age = 16\n",
    "\n",
    "if age >= 18:\n",
    "    print(\"You can vote\")\n",
    "else:\n",
    "    print(\"Your a minor\")\n"
   ]
  },
  {
   "cell_type": "code",
   "execution_count": 4,
   "id": "5560bdca",
   "metadata": {},
   "outputs": [
    {
     "name": "stdout",
     "output_type": "stream",
     "text": [
      "You are an adult\n"
     ]
    }
   ],
   "source": [
    "# elif statement \n",
    "# Allows to check multiple conditions \n",
    "age = 20 \n",
    "\n",
    "if age < 13:\n",
    "    print(\"Your a child\")\n",
    "elif age < 18:\n",
    "    print(\"Your a teenager\")\n",
    "else:\n",
    "    print(\"You are an adult\")"
   ]
  },
  {
   "cell_type": "code",
   "execution_count": 6,
   "id": "d50d271e",
   "metadata": {},
   "outputs": [
    {
     "name": "stdout",
     "output_type": "stream",
     "text": [
      "Number is positive\n",
      "Number is odd\n"
     ]
    }
   ],
   "source": [
    "# Nested conditional statements \n",
    "# We can place one or more if,elif or else statements \n",
    "# inside another if,elif or else statements\n",
    "\n",
    "# check if num is even,odd,negative\n",
    "\n",
    "num = int(input(\"Enter number:\"))\n",
    "if num >= 0:\n",
    "    print(\"Number is positive\")\n",
    "\n",
    "    if num % 2 == 0:\n",
    "        print(\"Number is even\")\n",
    "    \n",
    "    else:\n",
    "        print(\"Number is odd\")\n",
    "else:\n",
    "    print(\"Number is negative\")"
   ]
  },
  {
   "cell_type": "code",
   "execution_count": 14,
   "id": "8b4dcc20",
   "metadata": {},
   "outputs": [
    {
     "name": "stdout",
     "output_type": "stream",
     "text": [
      "This year is not a leap year\n"
     ]
    }
   ],
   "source": [
    "# Determine if a year is leap  yr using nested if-else \n",
    "\n",
    "year = 2024\n",
    "\n",
    "if year % 4 == 0:\n",
    "    if year % 100 == 0:\n",
    "        if year % 400 == 0:\n",
    "\n",
    "            print(\"This year is a leap year\")\n",
    "        else:\n",
    "                print(\"This year is not a leap year\")\n",
    "    else:\n",
    "        print(\"This year is not a leap year\")\n",
    "else:\n",
    "    print(\"This year is not a leap year\")"
   ]
  },
  {
   "cell_type": "code",
   "execution_count": 15,
   "id": "aff50922",
   "metadata": {},
   "outputs": [
    {
     "name": "stdout",
     "output_type": "stream",
     "text": [
      "0.5\n"
     ]
    }
   ],
   "source": [
    "# Calculator  \n",
    "num1 = float(input(\"Enter num1:\"))\n",
    "num2 = float(input(\"Enter num2:\"))\n",
    "opr = input(\"Enter operator (+,-,*,/):\")\n",
    "\n",
    "if opr == \"+\":\n",
    "    ans = num1 + num2 \n",
    "elif opr == '-':\n",
    "    ans = num1 - num2\n",
    "elif opr == '*':\n",
    "    ans = num1*num2\n",
    "elif opr == '/':\n",
    "    ans = num1 / num2 \n",
    "print(ans)\n"
   ]
  }
 ],
 "metadata": {
  "kernelspec": {
   "display_name": "myenv",
   "language": "python",
   "name": "python3"
  },
  "language_info": {
   "codemirror_mode": {
    "name": "ipython",
    "version": 3
   },
   "file_extension": ".py",
   "mimetype": "text/x-python",
   "name": "python",
   "nbconvert_exporter": "python",
   "pygments_lexer": "ipython3",
   "version": "3.12.7"
  }
 },
 "nbformat": 4,
 "nbformat_minor": 5
}
