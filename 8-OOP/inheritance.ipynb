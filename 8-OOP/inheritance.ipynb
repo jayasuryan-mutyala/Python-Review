{
 "cells": [
  {
   "cell_type": "markdown",
   "id": "bf370d68",
   "metadata": {},
   "source": [
    "Inheritance is a fundamental concept in OOP that allows the class to inherit attributes and methods from another class. \n",
    "- Single inheritance \n",
    "- Multiple Inheritance"
   ]
  },
  {
   "cell_type": "code",
   "execution_count": 1,
   "id": "109afaa9",
   "metadata": {},
   "outputs": [],
   "source": [
    "# Parent class \n",
    "class Car:\n",
    "    def __init__(self,windows,doors,enginetype):\n",
    "        self.windows = windows\n",
    "        self.doors = doors\n",
    "        self.enginetype = enginetype\n",
    "    \n",
    "    def drive(self):\n",
    "        print(f\"Person will drive the {self.enginetype} car\")\n"
   ]
  },
  {
   "cell_type": "code",
   "execution_count": 3,
   "id": "601f8faf",
   "metadata": {},
   "outputs": [
    {
     "name": "stdout",
     "output_type": "stream",
     "text": [
      "Person will drive the petrol car\n"
     ]
    }
   ],
   "source": [
    "car1 = Car(4,5,'petrol')\n",
    "car1.drive()"
   ]
  },
  {
   "cell_type": "code",
   "execution_count": null,
   "id": "05416ee8",
   "metadata": {},
   "outputs": [
    {
     "name": "stdout",
     "output_type": "stream",
     "text": [
      "Tesla supports self driving:True\n",
      "None\n",
      "Person will drive the electric car\n"
     ]
    }
   ],
   "source": [
    "# Single inheritance\n",
    "\n",
    "# child class is tesla \n",
    "# this inherits all the attributes and methods of parent class Car \n",
    "class Tesla(Car):\n",
    "    def __init__(self, windows, doors, enginetype,is_selfdriving):\n",
    "        # we have to use the super keyword to inherit attributes and methods from parent class \n",
    "        super().__init__(windows,doors,enginetype)\n",
    "        self.is_selfdriving = is_selfdriving\n",
    "    \n",
    "    def selfdrive(self):\n",
    "        print(f\"Tesla supports self driving:{self.is_selfdriving}\")\n",
    "\n",
    "tesla1 = Tesla(4,5,'electric',True)\n",
    "print(tesla1.selfdrive())\n",
    "tesla1.drive()\n",
    "\n"
   ]
  },
  {
   "cell_type": "code",
   "execution_count": null,
   "id": "d3b1607c",
   "metadata": {},
   "outputs": [
    {
     "name": "stdout",
     "output_type": "stream",
     "text": [
      "buddy says woof\n"
     ]
    }
   ],
   "source": [
    "# Multiple inheritance is when a class inherits from more than one base class\n",
    "\n",
    "# Base class 1  \n",
    "class Animal:\n",
    "    def __init__(self,name):\n",
    "        self.name = name \n",
    "    \n",
    "    def speak(self):\n",
    "        print(\"Subclass must implement this method\")\n",
    "\n",
    "# Base class 2\n",
    "class Pet:\n",
    "    def __init__(self,owner):\n",
    "        self.owner = owner         \n",
    "\n",
    "# Derived class \n",
    "class Dog(Animal,Pet):\n",
    "    def __init__(self, name,owner):\n",
    "        Animal.__init__(self,name)\n",
    "        Pet.__init__(self,owner)\n",
    "    \n",
    "    def speak(self):\n",
    "        return f\"{self.name} says woof\"\n",
    "\n",
    "dog = Dog('buddy','sal')\n",
    "print(dog.speak())\n",
    "# super cant work here"
   ]
  }
 ],
 "metadata": {
  "kernelspec": {
   "display_name": "myenv",
   "language": "python",
   "name": "python3"
  },
  "language_info": {
   "codemirror_mode": {
    "name": "ipython",
    "version": 3
   },
   "file_extension": ".py",
   "mimetype": "text/x-python",
   "name": "python",
   "nbconvert_exporter": "python",
   "pygments_lexer": "ipython3",
   "version": "3.12.7"
  }
 },
 "nbformat": 4,
 "nbformat_minor": 5
}
