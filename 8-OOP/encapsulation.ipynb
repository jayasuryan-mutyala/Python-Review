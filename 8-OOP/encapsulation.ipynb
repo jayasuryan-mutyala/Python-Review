{
 "cells": [
  {
   "cell_type": "markdown",
   "id": "dec64d88",
   "metadata": {},
   "source": [
    "# Encapsulation\n",
    "Encapsulation is the concept of wrapping data variables and methods toghether as a single unit. It restricts direct access to some of the objects components which is a means of preventing accidental inference and misuse of data"
   ]
  },
  {
   "cell_type": "code",
   "execution_count": 3,
   "id": "f1937a4f",
   "metadata": {},
   "outputs": [],
   "source": [
    "# Encapsulation with getter and setter methods\n",
    "# public,protected,private"
   ]
  },
  {
   "cell_type": "code",
   "execution_count": null,
   "id": "51973a6e",
   "metadata": {},
   "outputs": [
    {
     "name": "stdout",
     "output_type": "stream",
     "text": [
      "Surya\n"
     ]
    },
    {
     "data": {
      "text/plain": [
       "'Surya'"
      ]
     },
     "execution_count": 4,
     "metadata": {},
     "output_type": "execute_result"
    }
   ],
   "source": [
    "# Public variables are accessible from anywhere inside or outside the class.\n",
    "# We can freely modify read and modify parts of the program.  \n",
    "# naming: No underscore before the name\n",
    "\n",
    "class Person:\n",
    "    def __init__(self,name,age):\n",
    "        self.name = name # public variables \n",
    "        self.age = age # public variables\n",
    "\n",
    "def get_name(person):\n",
    "    return person.name\n",
    "\n",
    "person = Person(\"Surya\",34)\n",
    "print(person.name) \n",
    "get_name(person)"
   ]
  },
  {
   "cell_type": "code",
   "execution_count": null,
   "id": "44094a35",
   "metadata": {},
   "outputs": [
    {
     "name": "stdout",
     "output_type": "stream",
     "text": [
      "protected\n"
     ]
    }
   ],
   "source": [
    "# Protected variables are intended for internal use within class and its subclasses. \n",
    "#  we can access from outside but its discouraged \n",
    "# This used for data that we want to avoid modifying directly outside the class\n",
    "# but is still possible for subclass to use\n",
    "\n",
    "class MyClass:\n",
    "    def __init__(self):\n",
    "        self._data = 'protected'\n",
    "\n",
    "obj = MyClass()\n",
    "print(obj._data) "
   ]
  },
  {
   "cell_type": "code",
   "execution_count": 6,
   "id": "0129dc22",
   "metadata": {},
   "outputs": [
    {
     "name": "stdout",
     "output_type": "stream",
     "text": [
      "private\n",
      "None\n"
     ]
    }
   ],
   "source": [
    "# Private variables \n",
    "# Intended to be accessible only within the class making it harder to access from outside\n",
    "\n",
    "class MyClass:\n",
    "    def __init__(self):\n",
    "        self.__secret = 'private'\n",
    "    \n",
    "    def reveal_secret(self):\n",
    "        print(self.__secret)\n",
    "\n",
    "obj = MyClass()\n",
    "print(obj.reveal_secret())"
   ]
  },
  {
   "cell_type": "code",
   "execution_count": 12,
   "id": "1289ff27",
   "metadata": {},
   "outputs": [],
   "source": [
    "class Person:\n",
    "    def __init__(self,name,age,gender):\n",
    "        self.__name = name # private \n",
    "        self.__age = age # private \n",
    "        self.gender = gender\n",
    "\n",
    "def get_name(person):\n",
    "    return person.__name\n",
    "\n"
   ]
  },
  {
   "cell_type": "code",
   "execution_count": 13,
   "id": "96b254c7",
   "metadata": {},
   "outputs": [
    {
     "data": {
      "text/plain": [
       "['_Person__age',\n",
       " '_Person__name',\n",
       " '__class__',\n",
       " '__delattr__',\n",
       " '__dict__',\n",
       " '__dir__',\n",
       " '__doc__',\n",
       " '__eq__',\n",
       " '__format__',\n",
       " '__ge__',\n",
       " '__getattribute__',\n",
       " '__getstate__',\n",
       " '__gt__',\n",
       " '__hash__',\n",
       " '__init__',\n",
       " '__init_subclass__',\n",
       " '__le__',\n",
       " '__lt__',\n",
       " '__module__',\n",
       " '__ne__',\n",
       " '__new__',\n",
       " '__reduce__',\n",
       " '__reduce_ex__',\n",
       " '__repr__',\n",
       " '__setattr__',\n",
       " '__sizeof__',\n",
       " '__str__',\n",
       " '__subclasshook__',\n",
       " '__weakref__',\n",
       " 'gender']"
      ]
     },
     "execution_count": 13,
     "metadata": {},
     "output_type": "execute_result"
    }
   ],
   "source": [
    "person = Person('Surya',24,'M')\n",
    "dir(person)"
   ]
  },
  {
   "cell_type": "code",
   "execution_count": null,
   "id": "8455cad8",
   "metadata": {},
   "outputs": [
    {
     "ename": "AttributeError",
     "evalue": "'Person' object has no attribute '__name'",
     "output_type": "error",
     "traceback": [
      "\u001b[31m---------------------------------------------------------------------------\u001b[39m",
      "\u001b[31mAttributeError\u001b[39m                            Traceback (most recent call last)",
      "\u001b[36mCell\u001b[39m\u001b[36m \u001b[39m\u001b[32mIn[14]\u001b[39m\u001b[32m, line 1\u001b[39m\n\u001b[32m----> \u001b[39m\u001b[32m1\u001b[39m \u001b[43mget_name\u001b[49m\u001b[43m(\u001b[49m\u001b[43mperson\u001b[49m\u001b[43m)\u001b[49m\n",
      "\u001b[36mCell\u001b[39m\u001b[36m \u001b[39m\u001b[32mIn[12]\u001b[39m\u001b[32m, line 8\u001b[39m, in \u001b[36mget_name\u001b[39m\u001b[34m(person)\u001b[39m\n\u001b[32m      7\u001b[39m \u001b[38;5;28;01mdef\u001b[39;00m\u001b[38;5;250m \u001b[39m\u001b[34mget_name\u001b[39m(person):\n\u001b[32m----> \u001b[39m\u001b[32m8\u001b[39m     \u001b[38;5;28;01mreturn\u001b[39;00m \u001b[43mperson\u001b[49m\u001b[43m.\u001b[49m\u001b[43m__name\u001b[49m\n",
      "\u001b[31mAttributeError\u001b[39m: 'Person' object has no attribute '__name'"
     ]
    }
   ],
   "source": [
    "# get_name(person)"
   ]
  },
  {
   "cell_type": "code",
   "execution_count": 16,
   "id": "0445ff8c",
   "metadata": {},
   "outputs": [
    {
     "name": "stdout",
     "output_type": "stream",
     "text": [
      "Surya\n",
      "23\n",
      "M\n"
     ]
    }
   ],
   "source": [
    "class Person:\n",
    "    def __init__(self,name,age,gender):\n",
    "        self._name = name  # protected\n",
    "        self._age = age # protected\n",
    "        self._gender = gender\n",
    "\n",
    "# For protected variables we can only access the variables, within the derived class outside of it we cant \n",
    "\n",
    "class Employee(Person):\n",
    "    def __init__(self, name, age, gender):\n",
    "        super().__init__(name, age, gender)\n",
    "\n",
    "\n",
    "emp = Employee('Surya',23,'M')\n",
    "print(emp._name)\n",
    "print(emp._age)\n",
    "print(emp._gender)\n",
    "    \n",
    "\n",
    "        "
   ]
  },
  {
   "cell_type": "code",
   "execution_count": 5,
   "id": "38493a35",
   "metadata": {},
   "outputs": [
    {
     "name": "stdout",
     "output_type": "stream",
     "text": [
      "Surya\n",
      "Justin\n",
      "24\n",
      "30\n"
     ]
    }
   ],
   "source": [
    "# Encapsulation with getter and setter \n",
    "\n",
    "class Person:\n",
    "    def __init__(self,name,age):\n",
    "        self.__name = name # private access modifier or variable \n",
    "        self.__age = age # private variable\n",
    "    \n",
    "    # getter method for get_name\n",
    "    def get_name(self):\n",
    "        return self.__name\n",
    "    \n",
    "    # setter method\n",
    "    def set_name(self,name):\n",
    "        self.__name = name \n",
    "    \n",
    "    # get method for age \n",
    "    def get_age(self):\n",
    "        return self.__age\n",
    "    \n",
    "    # set method for age\n",
    "    def set_age(self,age):\n",
    "        if age > 0:\n",
    "            self.__age = age\n",
    "        else:\n",
    "            print(\"Age cannot be negative\") \n",
    "\n",
    "person = Person(\"Surya\",24)\n",
    "print(person.get_name())\n",
    "person.set_name('Justin')\n",
    "print(person.get_name())\n",
    "print(person.get_age())\n",
    "person.set_age(30)\n",
    "print(person.get_age())\n",
    "\n",
    "    \n",
    "\n",
    "\n",
    "        "
   ]
  }
 ],
 "metadata": {
  "kernelspec": {
   "display_name": "myenv",
   "language": "python",
   "name": "python3"
  },
  "language_info": {
   "codemirror_mode": {
    "name": "ipython",
    "version": 3
   },
   "file_extension": ".py",
   "mimetype": "text/x-python",
   "name": "python",
   "nbconvert_exporter": "python",
   "pygments_lexer": "ipython3",
   "version": "3.12.7"
  }
 },
 "nbformat": 4,
 "nbformat_minor": 5
}
