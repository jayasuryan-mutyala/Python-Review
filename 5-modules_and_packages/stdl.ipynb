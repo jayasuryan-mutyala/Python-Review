{
 "cells": [
  {
   "cell_type": "code",
   "execution_count": 1,
   "id": "b0f9b52d",
   "metadata": {},
   "outputs": [
    {
     "name": "stdout",
     "output_type": "stream",
     "text": [
      "array('i', [1, 2, 3, 4])\n"
     ]
    }
   ],
   "source": [
    "import array \n",
    "\n",
    "arr = array.array('i',[1,2,3,4])\n",
    "print(arr)"
   ]
  },
  {
   "cell_type": "code",
   "execution_count": 12,
   "id": "d5f67908",
   "metadata": {},
   "outputs": [
    {
     "name": "stdout",
     "output_type": "stream",
     "text": [
      "3\n",
      "orange\n"
     ]
    }
   ],
   "source": [
    "import random \n",
    "\n",
    "print(random.randint(1,10))\n",
    "print(random.choice(['apple','orange','banana']))"
   ]
  },
  {
   "cell_type": "code",
   "execution_count": null,
   "id": "8b77abf4",
   "metadata": {},
   "outputs": [
    {
     "name": "stdout",
     "output_type": "stream",
     "text": [
      "c:\\Users\\rsurs\\OneDrive\\Documents\\Python\\5-modules_and_packages\n"
     ]
    }
   ],
   "source": [
    "# Files and directories\n",
    "\n",
    "import os \n",
    "print(os.getcwd()) # get current working directory"
   ]
  },
  {
   "cell_type": "code",
   "execution_count": 14,
   "id": "6704f296",
   "metadata": {},
   "outputs": [],
   "source": [
    "# create folder \n",
    "os.mkdir('test_dir')"
   ]
  },
  {
   "cell_type": "code",
   "execution_count": 15,
   "id": "8012a4a2",
   "metadata": {},
   "outputs": [
    {
     "data": {
      "text/plain": [
       "'destination.txt'"
      ]
     },
     "execution_count": 15,
     "metadata": {},
     "output_type": "execute_result"
    }
   ],
   "source": [
    "# high level operations on files and collections of files \n",
    "\n",
    "import shutil\n",
    "\n",
    "shutil.copyfile('source.txt','destination.txt')"
   ]
  },
  {
   "cell_type": "code",
   "execution_count": null,
   "id": "b675a118",
   "metadata": {},
   "outputs": [
    {
     "name": "stdout",
     "output_type": "stream",
     "text": [
      "{\"name\": \"Surya\", \"age\": 25}\n",
      "<class 'str'>\n",
      "{'name': 'Surya', 'age': 25}\n",
      "<class 'dict'>\n"
     ]
    }
   ],
   "source": [
    "# data serialization \n",
    "\n",
    "import json \n",
    "\n",
    "data = {'name':'Surya',\n",
    "        'age':25}\n",
    "json_str = json.dumps(data)\n",
    "print(json_str)\n",
    "print(type(json_str))\n",
    "\n",
    "parsed_data = json.loads(json_str) # convert to dict\n",
    "print(parsed_data)\n",
    "print(type(parsed_data))"
   ]
  },
  {
   "cell_type": "code",
   "execution_count": null,
   "id": "4f252bb4",
   "metadata": {},
   "outputs": [
    {
     "name": "stdout",
     "output_type": "stream",
     "text": [
      "['name', 'age']\n",
      "['Sam', '21']\n"
     ]
    }
   ],
   "source": [
    "# csv\n",
    "import csv \n",
    "# create a csv file, we set in write mode w\n",
    "with open('example.csv',mode='w',newline='') as file:\n",
    "    writer = csv.writer(file)\n",
    "    writer.writerow(['name','age'])\n",
    "    writer.writerow(['Sam',21])\n",
    "\n",
    "# \n",
    "with open('example.csv',mode='r') as file:\n",
    "    reader = csv.reader(file)\n",
    "    for row in reader:\n",
    "        print(row)"
   ]
  },
  {
   "cell_type": "code",
   "execution_count": null,
   "id": "18dd29d1",
   "metadata": {},
   "outputs": [
    {
     "name": "stdout",
     "output_type": "stream",
     "text": [
      "2025-07-28 14:19:29.184708\n",
      "2025-07-27 14:19:29.184708\n"
     ]
    }
   ],
   "source": [
    "from datetime import datetime,timedelta\n",
    "\n",
    "now = datetime.now() # current day time\n",
    "print(now)\n",
    "\n",
    "yesterday = now - timedelta(days=1) # yesterday time \n",
    "print(yesterday)"
   ]
  },
  {
   "cell_type": "code",
   "execution_count": null,
   "id": "119ae0c6",
   "metadata": {},
   "outputs": [
    {
     "name": "stdout",
     "output_type": "stream",
     "text": [
      "123\n"
     ]
    }
   ],
   "source": [
    "#  regular expression \n",
    "import re \n",
    "\n",
    "pattern = r'\\d+'\n",
    "text = 'There are 123 apples'\n",
    "match = re.search(pattern,text) \n",
    "# we will check for where the digits are present\n",
    "print(match.group())"
   ]
  }
 ],
 "metadata": {
  "kernelspec": {
   "display_name": "myenv",
   "language": "python",
   "name": "python3"
  },
  "language_info": {
   "codemirror_mode": {
    "name": "ipython",
    "version": 3
   },
   "file_extension": ".py",
   "mimetype": "text/x-python",
   "name": "python",
   "nbconvert_exporter": "python",
   "pygments_lexer": "ipython3",
   "version": "3.12.7"
  }
 },
 "nbformat": 4,
 "nbformat_minor": 5
}
