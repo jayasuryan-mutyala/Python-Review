{
 "cells": [
  {
   "cell_type": "markdown",
   "id": "b7730dc5",
   "metadata": {},
   "source": [
    "In Python modules and packages help organize and reuse the code"
   ]
  },
  {
   "cell_type": "code",
   "execution_count": 1,
   "id": "33d4253a",
   "metadata": {},
   "outputs": [
    {
     "name": "stdout",
     "output_type": "stream",
     "text": [
      "3.7416573867739413\n",
      "3.141592653589793\n"
     ]
    }
   ],
   "source": [
    "import math \n",
    "from math import sqrt,pi \n",
    "\n",
    "print(sqrt(14))\n",
    "print(pi)"
   ]
  },
  {
   "cell_type": "code",
   "execution_count": 2,
   "id": "9ea316d1",
   "metadata": {},
   "outputs": [
    {
     "name": "stdout",
     "output_type": "stream",
     "text": [
      "4.0\n",
      "3.141592653589793\n"
     ]
    }
   ],
   "source": [
    "from math import * # * will let use all functions \n",
    "\n",
    "print(sqrt(16))\n",
    "print(pi)"
   ]
  },
  {
   "cell_type": "code",
   "execution_count": 3,
   "id": "df8702e0",
   "metadata": {},
   "outputs": [
    {
     "data": {
      "text/plain": [
       "5"
      ]
     },
     "execution_count": 3,
     "metadata": {},
     "output_type": "execute_result"
    }
   ],
   "source": [
    "from package.maths import add\n",
    "add(2,3)"
   ]
  },
  {
   "cell_type": "code",
   "execution_count": 4,
   "id": "887956dc",
   "metadata": {},
   "outputs": [
    {
     "data": {
      "text/plain": [
       "18"
      ]
     },
     "execution_count": 4,
     "metadata": {},
     "output_type": "execute_result"
    }
   ],
   "source": [
    "# similarly \n",
    "from package import maths \n",
    "maths.add(9,9)"
   ]
  },
  {
   "cell_type": "code",
   "execution_count": 5,
   "id": "f2524185",
   "metadata": {},
   "outputs": [
    {
     "data": {
      "text/plain": [
       "2"
      ]
     },
     "execution_count": 5,
     "metadata": {},
     "output_type": "execute_result"
    }
   ],
   "source": [
    "from package.maths import add,sub\n",
    "sub(4,2)"
   ]
  },
  {
   "cell_type": "code",
   "execution_count": 8,
   "id": "da2904f4",
   "metadata": {},
   "outputs": [
    {
     "data": {
      "text/plain": [
       "15"
      ]
     },
     "execution_count": 8,
     "metadata": {},
     "output_type": "execute_result"
    }
   ],
   "source": [
    "from package.subpackages import mult\n",
    "\n",
    "mult.multiply(3,5)"
   ]
  }
 ],
 "metadata": {
  "kernelspec": {
   "display_name": "myenv",
   "language": "python",
   "name": "python3"
  },
  "language_info": {
   "codemirror_mode": {
    "name": "ipython",
    "version": 3
   },
   "file_extension": ".py",
   "mimetype": "text/x-python",
   "name": "python",
   "nbconvert_exporter": "python",
   "pygments_lexer": "ipython3",
   "version": "3.12.7"
  }
 },
 "nbformat": 4,
 "nbformat_minor": 5
}
