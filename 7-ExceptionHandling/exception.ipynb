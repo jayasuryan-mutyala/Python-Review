{
 "cells": [
  {
   "cell_type": "code",
   "execution_count": null,
   "id": "58d126ca",
   "metadata": {},
   "outputs": [],
   "source": [
    "# Exceptions are events that disrupt the normal flow of a program. \n",
    "# They occur once an error is encountered during program execution\n",
    "# ZeroDivisionError: Dividing by zero\n",
    "# FileNotFoundError: File not found \n",
    "# ValueError: Invalid value \n",
    "# TypeError: invalid type"
   ]
  },
  {
   "cell_type": "code",
   "execution_count": null,
   "id": "ffea5b1b",
   "metadata": {},
   "outputs": [
    {
     "name": "stdout",
     "output_type": "stream",
     "text": [
      "Variable has not been assigned\n"
     ]
    }
   ],
   "source": [
    "# Exception try,except block\n",
    "try:\n",
    "    a = b\n",
    "except:\n",
    "    print(\"Variable has not been assigned\")"
   ]
  },
  {
   "cell_type": "code",
   "execution_count": 2,
   "id": "2450c303",
   "metadata": {},
   "outputs": [
    {
     "name": "stdout",
     "output_type": "stream",
     "text": [
      "name 'b' is not defined\n"
     ]
    }
   ],
   "source": [
    "try:\n",
    "    a = b \n",
    "except NameError as ex:\n",
    "    print(ex)"
   ]
  },
  {
   "cell_type": "code",
   "execution_count": 5,
   "id": "dfe36252",
   "metadata": {},
   "outputs": [
    {
     "name": "stdout",
     "output_type": "stream",
     "text": [
      "division by zero\n",
      "Enter the denom > 0 \n"
     ]
    }
   ],
   "source": [
    "try:\n",
    "    result=1/0\n",
    "except ZeroDivisionError as ex:\n",
    "    print(ex)\n",
    "    print(\"Enter the denom > 0 \")"
   ]
  },
  {
   "cell_type": "code",
   "execution_count": null,
   "id": "53392c2a",
   "metadata": {},
   "outputs": [
    {
     "name": "stdout",
     "output_type": "stream",
     "text": [
      "name 'b' is not defined\n"
     ]
    }
   ],
   "source": [
    "try:\n",
    "    result=1/2\n",
    "    a = b\n",
    "except ZeroDivisionError as ex:\n",
    "    print(ex)\n",
    "    print(\"Enter the denom > 0 \")\n",
    "except Exception as ex1: # base class Excpetion for all exception \n",
    "    print(ex1)"
   ]
  },
  {
   "cell_type": "code",
   "execution_count": 10,
   "id": "7338ba1d",
   "metadata": {},
   "outputs": [],
   "source": [
    "try:\n",
    "    num = int(input(\"Enter num\"))\n",
    "    result = 10/num\n",
    "\n",
    "except ValueError:\n",
    "    print(\"This is not a valid number\")\n",
    "except ZeroDivisionError:\n",
    "    print(\"Enter denom>0\")\n",
    "except Exception as ex:\n",
    "    print(ex)"
   ]
  },
  {
   "cell_type": "code",
   "execution_count": 11,
   "id": "b4d1fcdc",
   "metadata": {},
   "outputs": [
    {
     "name": "stdout",
     "output_type": "stream",
     "text": [
      "the result is 0.5263157894736842\n"
     ]
    }
   ],
   "source": [
    "# try,except,else block\n",
    "\n",
    "try:\n",
    "    num = int(input(\"Enter the number\"))\n",
    "    result = 10/num\n",
    "except ValueError:\n",
    "    print(\"That's not the valid number\")\n",
    "except ZeroDivisionError:\n",
    "    print(\"You can't divide by 0\")\n",
    "except Exception as ex:\n",
    "    print(ex)\n",
    "else:\n",
    "    print(f\"the result is {result}\")\n",
    "\n"
   ]
  },
  {
   "cell_type": "code",
   "execution_count": null,
   "id": "53607f4c",
   "metadata": {},
   "outputs": [
    {
     "name": "stdout",
     "output_type": "stream",
     "text": [
      "You can't divide by 0\n",
      "Execution complete\n"
     ]
    }
   ],
   "source": [
    "# try,except,else and catch \n",
    "\n",
    "try:\n",
    "    num = int(input(\"Enter num\"))\n",
    "    result = 10/num\n",
    "except ValueError:\n",
    "    print(\"this is not a valid error\")\n",
    "except ZeroDivisionError:\n",
    "    print(\"You can't divide by 0\")\n",
    "except Exception as ex:\n",
    "    print(ex)\n",
    "else:\n",
    "    print(f\"the result:{result}\")\n",
    "finally:\n",
    "    print(\"Execution complete\")\n",
    "\n",
    "# Even if we get an exception the finally block will still get executed"
   ]
  },
  {
   "cell_type": "code",
   "execution_count": 14,
   "id": "ebc6ce92",
   "metadata": {},
   "outputs": [
    {
     "name": "stdout",
     "output_type": "stream",
     "text": [
      "File does not exist\n"
     ]
    }
   ],
   "source": [
    "# File handling and exception handling \n",
    "\n",
    "try:\n",
    "    file = open('example.txt','r')\n",
    "    content = file.read()\n",
    "    print(content)\n",
    "except FileNotFoundError:\n",
    "    print(\"File does not exist\")\n",
    "finally:\n",
    "    if 'file' in locals() and not file.closed():\n",
    "        file.close()\n",
    "        print(\"File closed\")\n"
   ]
  },
  {
   "cell_type": "code",
   "execution_count": 3,
   "id": "4d9de54b",
   "metadata": {},
   "outputs": [
    {
     "name": "stdout",
     "output_type": "stream",
     "text": [
      "Enter denom > 0\n",
      "Run finished\n"
     ]
    }
   ],
   "source": [
    "try: \n",
    "    ans = 10/0\n",
    "except ZeroDivisionError as ex:\n",
    "    print('Enter denom > 0')\n",
    "finally:\n",
    "    print(\"Run finished\")"
   ]
  },
  {
   "cell_type": "code",
   "execution_count": 8,
   "id": "5037c00f",
   "metadata": {},
   "outputs": [
    {
     "name": "stdout",
     "output_type": "stream",
     "text": [
      "Welcome to my file \n",
      "Python is the best coding language\n"
     ]
    }
   ],
   "source": [
    "def file_read(file):\n",
    "    try:\n",
    "        with open(file,'r') as f:\n",
    "            content = f.read()\n",
    "            print(content)\n",
    "    except FileNotFoundError as ex:\n",
    "        print(\"File doesn't exist please create a new file\")\n",
    "    finally:\n",
    "        if 'f' in locals() and not f.closed:\n",
    "            f.close()\n",
    "            print('file closed')\n",
    "\n",
    "file_read('data.txt')"
   ]
  },
  {
   "cell_type": "code",
   "execution_count": 10,
   "id": "39aaf187",
   "metadata": {},
   "outputs": [
    {
     "name": "stdout",
     "output_type": "stream",
     "text": [
      "Enter a valid integer\n",
      "Code execution complete\n"
     ]
    }
   ],
   "source": [
    "def fun():\n",
    "    try:\n",
    "        num = int(input(\"Enter a number:\"))\n",
    "    except ValueError as ex:\n",
    "        print(\"Enter a valid integer\")\n",
    "    finally:\n",
    "        print(\"Code execution complete\")\n",
    "\n",
    "fun()\n",
    "    \n"
   ]
  },
  {
   "cell_type": "code",
   "execution_count": 12,
   "id": "5d1d4e66",
   "metadata": {},
   "outputs": [
    {
     "name": "stdout",
     "output_type": "stream",
     "text": [
      "Key not found, check the dictionary and enter a valid key.\n",
      "Code execution complete\n"
     ]
    }
   ],
   "source": [
    "def fun(my_dict,key):\n",
    "    value = None\n",
    "    try:\n",
    "        value = my_dict[key]\n",
    "    except KeyError as ex:\n",
    "        print(\"Key not found, check the dictionary and enter a valid key.\")\n",
    "    finally:\n",
    "        print(\"Code execution complete\")\n",
    "    return value\n",
    "\n",
    "my_dict = {'name':'sam','age':20,'country':'Singapore'}\n",
    "fun(my_dict,'x')"
   ]
  },
  {
   "cell_type": "code",
   "execution_count": 16,
   "id": "e52ad76c",
   "metadata": {},
   "outputs": [
    {
     "name": "stdout",
     "output_type": "stream",
     "text": [
      "Enter a valid string number\n",
      "Code execution done\n"
     ]
    }
   ],
   "source": [
    "# nested exception handling \n",
    "\n",
    "def nested_exception_handler(input_str):\n",
    "    res = None\n",
    "    try:\n",
    "        num = int(input_str)\n",
    "        try:\n",
    "            res = num / 2\n",
    "        except ZeroDivisionError as ex:\n",
    "            print('Enter a valid integer denominator > 0')\n",
    "    except ValueError as ex:\n",
    "        print(\"Enter a valid string number\")\n",
    "    finally:\n",
    "        print(\"Code execution done\")\n",
    "    return res\n",
    "\n",
    "nested_exception_handler('s')"
   ]
  },
  {
   "cell_type": "code",
   "execution_count": 17,
   "id": "1340e8fa",
   "metadata": {},
   "outputs": [
    {
     "name": "stdout",
     "output_type": "stream",
     "text": [
      "Code execution done\n"
     ]
    },
    {
     "data": {
      "text/plain": [
       "1"
      ]
     },
     "execution_count": 17,
     "metadata": {},
     "output_type": "execute_result"
    }
   ],
   "source": [
    "def fun(nums,index):\n",
    "    result = None\n",
    "    try:\n",
    "        result = nums[index]\n",
    "    except IndexError as ex:\n",
    "        print(\"Index out of range, Enter a valid index within range\")\n",
    "    finally:\n",
    "        print(\"Code execution done\")\n",
    "    return result\n",
    "\n",
    "nums = [1,2,4,6]\n",
    "index = 0 \n",
    "fun(nums,index)"
   ]
  },
  {
   "cell_type": "code",
   "execution_count": null,
   "id": "535e39fc",
   "metadata": {},
   "outputs": [
    {
     "name": "stdout",
     "output_type": "stream",
     "text": [
      "Custom exception caught:Negative number encountered:-1\n",
      "Execution of number check complete\n"
     ]
    }
   ],
   "source": [
    "# custom exception that handles negative numbers \n",
    "\n",
    "class NegativeNumberError(Exception):\n",
    "    def __init__(self, number):\n",
    "        super().__init__(f\"Negative number encountered:{number}\") # we keep an explaination of the error in init\n",
    "        self.number = number \n",
    "\n",
    "def check_positive_nums(nums):\n",
    "    try:\n",
    "        for num in nums:\n",
    "            if num < 0:\n",
    "                raise NegativeNumberError(num)\n",
    "    except NegativeNumberError as ex:\n",
    "        print(f\"Custom exception caught:{ex}\")\n",
    "    finally:\n",
    "        print(\"Execution of number check complete\")\n",
    "\n",
    "nums = [1,-1,4,-2]\n",
    "\n",
    "check_positive_nums(nums)"
   ]
  }
 ],
 "metadata": {
  "kernelspec": {
   "display_name": "myenv",
   "language": "python",
   "name": "python3"
  },
  "language_info": {
   "codemirror_mode": {
    "name": "ipython",
    "version": 3
   },
   "file_extension": ".py",
   "mimetype": "text/x-python",
   "name": "python",
   "nbconvert_exporter": "python",
   "pygments_lexer": "ipython3",
   "version": "3.12.7"
  }
 },
 "nbformat": 4,
 "nbformat_minor": 5
}
