{
 "cells": [
  {
   "cell_type": "code",
   "execution_count": 2,
   "id": "e174ae58",
   "metadata": {},
   "outputs": [],
   "source": [
    "# Dictionary is an unordered collection of items.\n",
    "# They store key-val pairs.\n",
    "# Keys must be unique and immutable (strings,nums,tuples)\n",
    "# values can be changed"
   ]
  },
  {
   "cell_type": "code",
   "execution_count": 3,
   "id": "9c32d19e",
   "metadata": {},
   "outputs": [
    {
     "name": "stdout",
     "output_type": "stream",
     "text": [
      "<class 'dict'>\n"
     ]
    }
   ],
   "source": [
    "empty_dict = {}\n",
    "print(type(empty_dict))"
   ]
  },
  {
   "cell_type": "code",
   "execution_count": 4,
   "id": "8cbd6480",
   "metadata": {},
   "outputs": [
    {
     "data": {
      "text/plain": [
       "{}"
      ]
     },
     "execution_count": 4,
     "metadata": {},
     "output_type": "execute_result"
    }
   ],
   "source": [
    "empty_dict = dict()\n",
    "empty_dict"
   ]
  },
  {
   "cell_type": "code",
   "execution_count": 5,
   "id": "60f9c389",
   "metadata": {},
   "outputs": [
    {
     "name": "stdout",
     "output_type": "stream",
     "text": [
      "{'name': 'surya', 'age': 24, 'grade': 24}\n",
      "<class 'dict'>\n"
     ]
    }
   ],
   "source": [
    "student = {\"name\":\"surya\",\n",
    "           \"age\":24,\n",
    "           \"grade\":24}\n",
    "print(student)\n",
    "print(type(student))"
   ]
  },
  {
   "cell_type": "code",
   "execution_count": 6,
   "id": "2796f858",
   "metadata": {},
   "outputs": [
    {
     "data": {
      "text/plain": [
       "{'name': 24, 'age': 32}"
      ]
     },
     "execution_count": 6,
     "metadata": {},
     "output_type": "execute_result"
    }
   ],
   "source": [
    "# Single key is always used\n",
    "student = {'name':'surya','age':32,'name':24}\n",
    "student"
   ]
  },
  {
   "cell_type": "code",
   "execution_count": 7,
   "id": "c4db845a",
   "metadata": {},
   "outputs": [
    {
     "name": "stdout",
     "output_type": "stream",
     "text": [
      "A\n",
      "24\n",
      "A\n",
      "24\n",
      "None\n"
     ]
    }
   ],
   "source": [
    "# accessing dictionary elements \n",
    "student = {\"name\":\"surya\",\n",
    "           \"age\":24,\n",
    "           \"grade\":'A'}\n",
    "print(student['grade'])\n",
    "print(student['age'])\n",
    "\n",
    "# accessing the values using get() method \n",
    "print(student.get('grade'))\n",
    "print(student.get('age'))\n",
    "print(student.get('last_name'))"
   ]
  },
  {
   "cell_type": "code",
   "execution_count": 8,
   "id": "1e497a97",
   "metadata": {},
   "outputs": [
    {
     "name": "stdout",
     "output_type": "stream",
     "text": [
      "{'name': 'surya', 'age': 24, 'grade': 'A'}\n"
     ]
    }
   ],
   "source": [
    "# modifying dictionary elements \n",
    "# Dictionaries are mutable, we can add,update,delete elements\n",
    "print(student)"
   ]
  },
  {
   "cell_type": "code",
   "execution_count": 9,
   "id": "d8306ff5",
   "metadata": {},
   "outputs": [
    {
     "name": "stdout",
     "output_type": "stream",
     "text": [
      "{'name': 'surya', 'age': 33, 'grade': 'A', 'address': 'India'}\n"
     ]
    }
   ],
   "source": [
    "student['age'] = 33 # update value for a key\n",
    "student['address'] = \"India\" #  added new key-val \n",
    "print(student)"
   ]
  },
  {
   "cell_type": "code",
   "execution_count": 10,
   "id": "f53ffaf2",
   "metadata": {},
   "outputs": [],
   "source": [
    "del student['grade']"
   ]
  },
  {
   "cell_type": "code",
   "execution_count": 11,
   "id": "548520a7",
   "metadata": {},
   "outputs": [
    {
     "name": "stdout",
     "output_type": "stream",
     "text": [
      "{'name': 'surya', 'age': 33, 'address': 'India'}\n"
     ]
    }
   ],
   "source": [
    "print(student)"
   ]
  },
  {
   "cell_type": "code",
   "execution_count": 12,
   "id": "6addea02",
   "metadata": {},
   "outputs": [
    {
     "name": "stdout",
     "output_type": "stream",
     "text": [
      "dict_keys(['name', 'age', 'address'])\n",
      "dict_values(['surya', 33, 'India'])\n",
      "dict_items([('name', 'surya'), ('age', 33), ('address', 'India')])\n"
     ]
    }
   ],
   "source": [
    "# Dictionary methods\n",
    "keys = student.keys() # gets all keys\n",
    "print(keys)\n",
    "\n",
    "values = student.values() # gets all values\n",
    "print(values)\n",
    "\n",
    "items = student.items()  # gets all key-val pairs\n",
    "print(items)\n"
   ]
  },
  {
   "cell_type": "code",
   "execution_count": 13,
   "id": "51a4a863",
   "metadata": {},
   "outputs": [
    {
     "name": "stdout",
     "output_type": "stream",
     "text": [
      "{'name': 'surya', 'age': 33, 'address': 'India'}\n",
      "{'name': 'surya', 'age': 33, 'address': 'India'}\n"
     ]
    }
   ],
   "source": [
    "# shallow copy \n",
    "student_copy = student\n",
    "print(student)\n",
    "print(student_copy)"
   ]
  },
  {
   "cell_type": "code",
   "execution_count": 14,
   "id": "b7853366",
   "metadata": {},
   "outputs": [
    {
     "name": "stdout",
     "output_type": "stream",
     "text": [
      "{'name': 'surya1', 'age': 33, 'address': 'India'}\n",
      "{'name': 'surya1', 'age': 33, 'address': 'India'}\n"
     ]
    }
   ],
   "source": [
    "student['name'] = \"surya1\"\n",
    "print(student)\n",
    "print(student_copy)\n",
    "# We can't have both the dictionaries updating only student_copy should update"
   ]
  },
  {
   "cell_type": "code",
   "execution_count": 15,
   "id": "1be9d64e",
   "metadata": {},
   "outputs": [
    {
     "name": "stdout",
     "output_type": "stream",
     "text": [
      "{'name': 'surya1', 'age': 33, 'address': 'India'}\n",
      "{'name': 'surya1', 'age': 33, 'address': 'India'}\n"
     ]
    }
   ],
   "source": [
    "student_copy = student.copy() # shallow copy\n",
    "print(student_copy)\n",
    "print(student)"
   ]
  },
  {
   "cell_type": "code",
   "execution_count": 16,
   "id": "36094a9f",
   "metadata": {},
   "outputs": [
    {
     "name": "stdout",
     "output_type": "stream",
     "text": [
      "{'name': 'surya4', 'age': 33, 'address': 'India'}\n",
      "{'name': 'surya1', 'age': 33, 'address': 'India'}\n"
     ]
    }
   ],
   "source": [
    "student['name'] = 'surya4'\n",
    "print(student)\n",
    "print(student_copy)"
   ]
  },
  {
   "cell_type": "code",
   "execution_count": null,
   "id": "69b341d5",
   "metadata": {},
   "outputs": [
    {
     "name": "stdout",
     "output_type": "stream",
     "text": [
      "name surya4\n",
      "age 33\n",
      "address India\n"
     ]
    }
   ],
   "source": [
    "# # iterate over dicts \n",
    "# # we can iterate over the keys,values,items \n",
    "# iterate over  the keys\n",
    "for key in student.keys():\n",
    "    # print(key)\n",
    "    print(key,student[key])\n"
   ]
  },
  {
   "cell_type": "code",
   "execution_count": 20,
   "id": "96423a96",
   "metadata": {},
   "outputs": [
    {
     "name": "stdout",
     "output_type": "stream",
     "text": [
      "surya4\n",
      "33\n",
      "India\n"
     ]
    }
   ],
   "source": [
    "# iterate over the values \n",
    "for val in student.values():\n",
    "    print(val)"
   ]
  },
  {
   "cell_type": "code",
   "execution_count": 21,
   "id": "e3e9c926",
   "metadata": {},
   "outputs": [
    {
     "name": "stdout",
     "output_type": "stream",
     "text": [
      "name surya4\n",
      "age 33\n",
      "address India\n"
     ]
    }
   ],
   "source": [
    "for key,val in student.items():\n",
    "    print(key,val)"
   ]
  },
  {
   "cell_type": "code",
   "execution_count": 22,
   "id": "26ea6021",
   "metadata": {},
   "outputs": [
    {
     "name": "stdout",
     "output_type": "stream",
     "text": [
      "{'student1': {'name': 'Surya', 'age': 24}, 'student2': {'name': 'Peter', 'age': 35}}\n"
     ]
    }
   ],
   "source": [
    "# Nested dictionaries \n",
    "students = {\n",
    "    'student1':{'name':'Surya',\"age\":24},\n",
    "    'student2':{'name':'Peter','age':35}\n",
    "}\n",
    "print(students)"
   ]
  },
  {
   "cell_type": "code",
   "execution_count": 24,
   "id": "10984910",
   "metadata": {},
   "outputs": [
    {
     "name": "stdout",
     "output_type": "stream",
     "text": [
      "Surya\n",
      "Peter\n"
     ]
    }
   ],
   "source": [
    "# accessing nested dict elements\n",
    "print(students['student1']['name'])\n",
    "print(students['student2']['name'])"
   ]
  },
  {
   "cell_type": "code",
   "execution_count": 27,
   "id": "d68ae49e",
   "metadata": {},
   "outputs": [
    {
     "name": "stdout",
     "output_type": "stream",
     "text": [
      "student1:{'name': 'Surya', 'age': 24}\n",
      "name:Surya\n",
      "age:24\n",
      "student2:{'name': 'Peter', 'age': 35}\n",
      "name:Peter\n",
      "age:35\n"
     ]
    }
   ],
   "source": [
    "# iterating over nested dictionaries \n",
    "for student_id,student_info in students.items():\n",
    "    print(f\"{student_id}:{student_info}\")\n",
    "    for key,val in student_info.items():\n",
    "        print(f\"{key}:{val}\")"
   ]
  },
  {
   "cell_type": "code",
   "execution_count": 29,
   "id": "be5770e0",
   "metadata": {},
   "outputs": [
    {
     "name": "stdout",
     "output_type": "stream",
     "text": [
      "{0: 0, 1: 1, 2: 4, 3: 9, 4: 16}\n"
     ]
    }
   ],
   "source": [
    "# Dictionary comprehension \n",
    "\n",
    "squares = {x:x**2 for x in range(5)}\n",
    "print(squares)"
   ]
  },
  {
   "cell_type": "code",
   "execution_count": 30,
   "id": "4e4145af",
   "metadata": {},
   "outputs": [
    {
     "data": {
      "text/plain": [
       "{0: 0, 2: 4, 4: 16, 6: 36, 8: 64}"
      ]
     },
     "execution_count": 30,
     "metadata": {},
     "output_type": "execute_result"
    }
   ],
   "source": [
    "# Condition dictionary comprehension \n",
    "\n",
    "evens = {x:x**2 for x in range(10) if x % 2 == 0}\n",
    "evens\n"
   ]
  },
  {
   "cell_type": "code",
   "execution_count": 32,
   "id": "98e18f7d",
   "metadata": {},
   "outputs": [
    {
     "data": {
      "text/plain": [
       "{1: 1, 2: 2, 3: 2, 4: 4}"
      ]
     },
     "execution_count": 32,
     "metadata": {},
     "output_type": "execute_result"
    }
   ],
   "source": [
    "# Practical examples \n",
    "# use a dictionary to count the frequency of elements\n",
    "nums = [1,2,2,3,3,4,4,4,4]\n",
    "freq = {}\n",
    "\n",
    "for i in range(len(nums)):\n",
    "    if nums[i] in freq:\n",
    "        freq[nums[i]] += 1 \n",
    "    else:\n",
    "        freq[nums[i]] = 1 \n",
    "\n",
    "freq"
   ]
  },
  {
   "cell_type": "code",
   "execution_count": 33,
   "id": "645aaf95",
   "metadata": {},
   "outputs": [
    {
     "data": {
      "text/plain": [
       "{'a': 1, 'b': 3, 'c': 4}"
      ]
     },
     "execution_count": 33,
     "metadata": {},
     "output_type": "execute_result"
    }
   ],
   "source": [
    "# Merge 2 dictionaries into one\n",
    "\n",
    "dict1 = {\"a\":1,\"b\":2}\n",
    "dict2 = {\"b\":3,\"c\":4}\n",
    "merged_dict = {**dict1,**dict2}\n",
    "merged_dict"
   ]
  },
  {
   "cell_type": "code",
   "execution_count": 2,
   "id": "ea3b78ad",
   "metadata": {},
   "outputs": [
    {
     "name": "stdout",
     "output_type": "stream",
     "text": [
      "{0: 0, 1: 1, 2: 4, 3: 9, 4: 16, 5: 25, 6: 36, 7: 49, 8: 64, 9: 81, 10: 100}\n"
     ]
    }
   ],
   "source": [
    "# create a dict with first 10+ve ints and their squares as values  \n",
    "\n",
    "squares = {x : x**2 for x in range(11)}\n",
    "print(squares)"
   ]
  },
  {
   "cell_type": "code",
   "execution_count": 3,
   "id": "79a3c81b",
   "metadata": {},
   "outputs": [
    {
     "name": "stdout",
     "output_type": "stream",
     "text": [
      "25\n"
     ]
    }
   ],
   "source": [
    "# print val of key 5 \n",
    "print(squares[5])"
   ]
  },
  {
   "cell_type": "code",
   "execution_count": 4,
   "id": "b760850d",
   "metadata": {},
   "outputs": [
    {
     "name": "stdout",
     "output_type": "stream",
     "text": [
      "0:0\n",
      "1:1\n",
      "2:4\n",
      "3:9\n",
      "4:16\n",
      "5:25\n",
      "6:36\n",
      "7:49\n",
      "8:64\n",
      "9:81\n",
      "10:100\n"
     ]
    }
   ],
   "source": [
    "for key,val in squares.items():\n",
    "    print(f\"{key}:{val}\")"
   ]
  },
  {
   "cell_type": "code",
   "execution_count": 5,
   "id": "f1df4b65",
   "metadata": {},
   "outputs": [],
   "source": [
    "# add (11,121) and delete key-val pair 1\n",
    "squares[11] = 121 \n",
    "del squares[1]"
   ]
  },
  {
   "cell_type": "code",
   "execution_count": 6,
   "id": "23daac87",
   "metadata": {},
   "outputs": [
    {
     "name": "stdout",
     "output_type": "stream",
     "text": [
      "{0: 0, 2: 4, 3: 9, 4: 16, 5: 25, 6: 36, 7: 49, 8: 64, 9: 81, 10: 100, 11: 121}\n"
     ]
    }
   ],
   "source": [
    "print(squares)"
   ]
  },
  {
   "cell_type": "code",
   "execution_count": 7,
   "id": "3177c9dc",
   "metadata": {},
   "outputs": [
    {
     "name": "stdout",
     "output_type": "stream",
     "text": [
      "{1: 1, 2: 8, 3: 27, 4: 64, 5: 125, 6: 216, 7: 343, 8: 512, 9: 729}\n"
     ]
    }
   ],
   "source": [
    "cubes = {x: x**3 for x in range(1,10)}\n",
    "print(cubes)"
   ]
  },
  {
   "cell_type": "code",
   "execution_count": null,
   "id": "c2aaee95",
   "metadata": {},
   "outputs": [
    {
     "name": "stdout",
     "output_type": "stream",
     "text": [
      "{1: 1, 2: 4, 3: 9, 4: 16, 5: 25, 6: 36, 7: 49, 8: 64, 9: 81, 10: 100}\n"
     ]
    }
   ],
   "source": [
    "# merge 2  dictionaries\n",
    "dict1 = {i:i**2 for i in range(1,6)}\n",
    "dict2 = {i:i**2 for i in range(5,11)}\n",
    "dict1.update(dict2)\n",
    "print(dict1)\n",
    "# udpate method isd used for merging 2 dictionaries \n",
    "# it modifies one dict by adding or updating key-val pairs\n",
    "# if a key exists in both dict1 and dict2 \n",
    "# the value from dict2 will replace the value in dict1 "
   ]
  },
  {
   "cell_type": "code",
   "execution_count": 12,
   "id": "be86bbbd",
   "metadata": {},
   "outputs": [
    {
     "name": "stdout",
     "output_type": "stream",
     "text": [
      "{'name': 'jay', 'age': 21, 'grades': {'math': 80, 'science': 75, 'english': 90}}\n"
     ]
    }
   ],
   "source": [
    "student = {'name':'jay',\n",
    "           'age':21,\n",
    "           'grades':{\n",
    "               'math':80,\n",
    "               'science':75,\n",
    "               'english':90\n",
    "           }}\n",
    "print(student)"
   ]
  },
  {
   "cell_type": "code",
   "execution_count": null,
   "id": "725dcffb",
   "metadata": {},
   "outputs": [
    {
     "data": {
      "text/plain": [
       "[(1, 1), (2, 4), (3, 9), (4, 16), (5, 25)]"
      ]
     },
     "execution_count": 16,
     "metadata": {},
     "output_type": "execute_result"
    }
   ],
   "source": [
    "# convert a dict into list of tuples \n",
    "squares = {x:x**2 for x in range(1,6)}\n",
    "list(tuple(squares.items())) "
   ]
  },
  {
   "cell_type": "code",
   "execution_count": 17,
   "id": "b26f6658",
   "metadata": {},
   "outputs": [
    {
     "name": "stdout",
     "output_type": "stream",
     "text": [
      "{2: 4, 4: 16}\n"
     ]
    }
   ],
   "source": [
    "# create dict with key-val pairs with only even ones \n",
    "evens = {x:x**2 for x in range(1,5) if x%2 == 0}\n",
    "print(evens)"
   ]
  },
  {
   "cell_type": "code",
   "execution_count": 18,
   "id": "c2166fb9",
   "metadata": {},
   "outputs": [
    {
     "name": "stdout",
     "output_type": "stream",
     "text": [
      "{1: 1, 4: 2, 9: 3, 16: 4, 25: 5}\n"
     ]
    }
   ],
   "source": [
    "squares = {x:x**2 for x in range(1,6)}\n",
    "swap_dict = {}\n",
    "for key,val in squares.items():\n",
    "    swap_dict[val] = key\n",
    "print(swap_dict)\n"
   ]
  },
  {
   "cell_type": "code",
   "execution_count": 19,
   "id": "056d8e26",
   "metadata": {},
   "outputs": [
    {
     "name": "stdout",
     "output_type": "stream",
     "text": [
      "{'G': 2, 'o': 5, 'd': 3, ' ': 4, 'm': 1, 'r': 1, 'n': 4, 'i': 2, 'g': 2, 'a': 1, 'h': 1, 't': 1}\n"
     ]
    }
   ],
   "source": [
    "s = 'Good morning and Good night'\n",
    "counts = {}\n",
    "for i in range(len(s)):\n",
    "    if s[i] in counts:\n",
    "        counts[s[i]] += 1 \n",
    "    else:\n",
    "        counts[s[i]] = 1\n",
    "print(counts)"
   ]
  },
  {
   "cell_type": "code",
   "execution_count": 22,
   "id": "6b79ba03",
   "metadata": {},
   "outputs": [
    {
     "name": "stdout",
     "output_type": "stream",
     "text": [
      "{\n",
      "    \"title\": \"homl\",\n",
      "    \"author\": \"geron\",\n",
      "    \"year\": 2021,\n",
      "    \"genre\": \"Machine Learning\"\n",
      "}\n",
      "{\"author\": \"geron\", \"genre\": \"Machine Learning\", \"title\": \"homl\", \"year\": 2021}\n",
      "{\"title\": \"homl\", \"author\": \"geron\", \"year\": 2021, \"genre\": \"Machine Learning\"}\n",
      "[{\"title\": \"homl\"}, {\"author\": \"geron\"}, {\"year\": 2021}, {\"genre\": \"Machine Learning\"}]\n"
     ]
    }
   ],
   "source": [
    "# create dict and convert dict to json string and print it \n",
    "import json\n",
    "book = {'title':'homl',\n",
    "        'author':'geron',\n",
    "        'year':2021,\n",
    "        'genre':'Machine Learning'}\n",
    "\n",
    "print(json.dumps(obj=book, indent=4))        # Pretty print JSON\n",
    "print(json.dumps(obj=book, sort_keys=True))  # Sorted keys\n",
    "print(json.dumps(obj=book, ensure_ascii=False))  # Non-ASCII encoding\n",
    "print(json.dumps([{k: book[k]} for k in book]))  # Convert to"
   ]
  },
  {
   "cell_type": "code",
   "execution_count": null,
   "id": "8c605390",
   "metadata": {},
   "outputs": [],
   "source": []
  }
 ],
 "metadata": {
  "kernelspec": {
   "display_name": "myenv",
   "language": "python",
   "name": "python3"
  },
  "language_info": {
   "codemirror_mode": {
    "name": "ipython",
    "version": 3
   },
   "file_extension": ".py",
   "mimetype": "text/x-python",
   "name": "python",
   "nbconvert_exporter": "python",
   "pygments_lexer": "ipython3",
   "version": "3.12.7"
  }
 },
 "nbformat": 4,
 "nbformat_minor": 5
}
