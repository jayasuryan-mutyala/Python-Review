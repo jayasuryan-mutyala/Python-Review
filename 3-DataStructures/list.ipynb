{
 "cells": [
  {
   "cell_type": "code",
   "execution_count": 27,
   "id": "861bfa74",
   "metadata": {},
   "outputs": [
    {
     "name": "stdout",
     "output_type": "stream",
     "text": [
      "<class 'list'>\n"
     ]
    }
   ],
   "source": [
    "# list\n",
    "# creating list \n",
    "lst = []\n",
    "print(type(lst))\n"
   ]
  },
  {
   "cell_type": "code",
   "execution_count": null,
   "id": "ab2ff557",
   "metadata": {},
   "outputs": [],
   "source": [
    "# list methods\n",
    "# 1.append\n",
    "# a = [1,2,3] \n",
    "# a.append(4)\n",
    "# [1,2,3,4]\n",
    "\n",
    "# 2. insert \n",
    "#  a.insert(0,9)\n",
    "# a = [9,1,2,3]\n",
    "\n",
    "# 3. pop\n",
    "# a.pop()\n",
    "# a = [1,2]\n",
    "\n",
    "# 4. remove\n",
    "# a.remove(2)\n",
    "# a = [1,3]\n",
    "\n",
    "# 5.index \n",
    "# a.index(1)\n",
    "# 0\n",
    "  "
   ]
  },
  {
   "cell_type": "code",
   "execution_count": 28,
   "id": "7717fa9c",
   "metadata": {},
   "outputs": [
    {
     "name": "stdout",
     "output_type": "stream",
     "text": [
      "['surya', 'jack', 'jacob']\n"
     ]
    }
   ],
   "source": [
    "names = [\"surya\",\"jack\",\"jacob\"]\n",
    "print(names)"
   ]
  },
  {
   "cell_type": "code",
   "execution_count": 29,
   "id": "e3cc1858",
   "metadata": {},
   "outputs": [
    {
     "name": "stdout",
     "output_type": "stream",
     "text": [
      "['hello', 3.14, True]\n"
     ]
    }
   ],
   "source": [
    "mixed_list = [\"hello\",3.14,True]\n",
    "print(mixed_list)"
   ]
  },
  {
   "cell_type": "code",
   "execution_count": 30,
   "id": "ded7734f",
   "metadata": {},
   "outputs": [
    {
     "name": "stdout",
     "output_type": "stream",
     "text": [
      "apple\n",
      "cherry\n",
      "gauva\n",
      "gauva\n"
     ]
    }
   ],
   "source": [
    "fruits = ['apple','banana','cherry','kiwi','gauva']\n",
    "print(fruits[0])\n",
    "print(fruits[2])\n",
    "print(fruits[4])\n",
    "print(fruits[-1])"
   ]
  },
  {
   "cell_type": "code",
   "execution_count": 31,
   "id": "1b21149d",
   "metadata": {},
   "outputs": [
    {
     "name": "stdout",
     "output_type": "stream",
     "text": [
      "['banana', 'cherry', 'kiwi', 'gauva']\n",
      "['banana', 'cherry']\n"
     ]
    }
   ],
   "source": [
    "print(fruits[1:])\n",
    "print(fruits[1:3])\n",
    "# print(fruits[-1:-3])"
   ]
  },
  {
   "cell_type": "code",
   "execution_count": 32,
   "id": "0a0dc4d5",
   "metadata": {},
   "outputs": [
    {
     "data": {
      "text/plain": [
       "['apple', 'banana', 'cherry', 'kiwi', 'gauva']"
      ]
     },
     "execution_count": 32,
     "metadata": {},
     "output_type": "execute_result"
    }
   ],
   "source": [
    "# Modify the list elements\n",
    "fruits"
   ]
  },
  {
   "cell_type": "code",
   "execution_count": 33,
   "id": "fe4dabc7",
   "metadata": {},
   "outputs": [
    {
     "name": "stdout",
     "output_type": "stream",
     "text": [
      "['apple', 'watermelon', 'cherry', 'kiwi', 'gauva']\n"
     ]
    }
   ],
   "source": [
    "fruits[1] = 'watermelon'\n",
    "print(fruits)"
   ]
  },
  {
   "cell_type": "code",
   "execution_count": 34,
   "id": "49e26ab1",
   "metadata": {},
   "outputs": [],
   "source": [
    "fruits[1:] = 'watermelon'"
   ]
  },
  {
   "cell_type": "code",
   "execution_count": 35,
   "id": "259287f6",
   "metadata": {},
   "outputs": [
    {
     "data": {
      "text/plain": [
       "['apple', 'w', 'a', 't', 'e', 'r', 'm', 'e', 'l', 'o', 'n']"
      ]
     },
     "execution_count": 35,
     "metadata": {},
     "output_type": "execute_result"
    }
   ],
   "source": [
    "fruits"
   ]
  },
  {
   "cell_type": "code",
   "execution_count": 36,
   "id": "cc0f2e85",
   "metadata": {},
   "outputs": [],
   "source": [
    "fruits = ['apple','banana','cherry','kiwi','gauva']\n"
   ]
  },
  {
   "cell_type": "code",
   "execution_count": 37,
   "id": "0fa63832",
   "metadata": {},
   "outputs": [
    {
     "data": {
      "text/plain": [
       "['apple', 'banana', 'cherry', 'kiwi', 'gauva', 'orange']"
      ]
     },
     "execution_count": 37,
     "metadata": {},
     "output_type": "execute_result"
    }
   ],
   "source": [
    "# list methods \n",
    "# append: adds an item to the end \n",
    "fruits.append('orange')\n",
    "fruits"
   ]
  },
  {
   "cell_type": "code",
   "execution_count": 38,
   "id": "dd99175c",
   "metadata": {},
   "outputs": [
    {
     "name": "stdout",
     "output_type": "stream",
     "text": [
      "['apple', 'watermelon', 'banana', 'cherry', 'kiwi', 'gauva', 'orange']\n"
     ]
    }
   ],
   "source": [
    "# insert: insert the item at a particular index \n",
    "fruits.insert(1,'watermelon')\n",
    "print(fruits)"
   ]
  },
  {
   "cell_type": "code",
   "execution_count": 39,
   "id": "ea5fc07f",
   "metadata": {},
   "outputs": [
    {
     "name": "stdout",
     "output_type": "stream",
     "text": [
      "['apple', 'watermelon', 'cherry', 'kiwi', 'gauva', 'orange']\n"
     ]
    }
   ],
   "source": [
    "# remove: removes the first occurence of the item\n",
    "fruits.remove('banana')\n",
    "print(fruits)"
   ]
  },
  {
   "cell_type": "code",
   "execution_count": 40,
   "id": "74b91d16",
   "metadata": {},
   "outputs": [
    {
     "name": "stdout",
     "output_type": "stream",
     "text": [
      "orange\n"
     ]
    }
   ],
   "source": [
    "# pop: deletes the last element in the list\n",
    "popped_fruits = fruits.pop()\n",
    "print(popped_fruits)"
   ]
  },
  {
   "cell_type": "code",
   "execution_count": 41,
   "id": "df20aa6c",
   "metadata": {},
   "outputs": [
    {
     "name": "stdout",
     "output_type": "stream",
     "text": [
      "2\n"
     ]
    }
   ],
   "source": [
    "# index: retrieves the index of the item in the list\n",
    "index = fruits.index('cherry')\n",
    "print(index)"
   ]
  },
  {
   "cell_type": "code",
   "execution_count": 42,
   "id": "c851dbbd",
   "metadata": {},
   "outputs": [
    {
     "name": "stdout",
     "output_type": "stream",
     "text": [
      "1\n"
     ]
    }
   ],
   "source": [
    "fruits.insert(2,'banana')\n",
    "print(fruits.count('banana'))"
   ]
  },
  {
   "cell_type": "code",
   "execution_count": 43,
   "id": "6158d54e",
   "metadata": {},
   "outputs": [],
   "source": [
    "fruits.sort() # sorts in ascending order"
   ]
  },
  {
   "cell_type": "code",
   "execution_count": 44,
   "id": "ade9093c",
   "metadata": {},
   "outputs": [
    {
     "data": {
      "text/plain": [
       "['apple', 'banana', 'cherry', 'gauva', 'kiwi', 'watermelon']"
      ]
     },
     "execution_count": 44,
     "metadata": {},
     "output_type": "execute_result"
    }
   ],
   "source": [
    "fruits"
   ]
  },
  {
   "cell_type": "code",
   "execution_count": 45,
   "id": "0084d7f4",
   "metadata": {},
   "outputs": [],
   "source": [
    "fruits.clear() # deletes the items in the list"
   ]
  },
  {
   "cell_type": "code",
   "execution_count": 46,
   "id": "a257aea1",
   "metadata": {},
   "outputs": [
    {
     "data": {
      "text/plain": [
       "[]"
      ]
     },
     "execution_count": 46,
     "metadata": {},
     "output_type": "execute_result"
    }
   ],
   "source": [
    "fruits"
   ]
  },
  {
   "cell_type": "code",
   "execution_count": 50,
   "id": "5216d7dc",
   "metadata": {},
   "outputs": [
    {
     "name": "stdout",
     "output_type": "stream",
     "text": [
      "[3, 4, 5]\n",
      "[1, 2, 3, 4, 5]\n",
      "[6, 7, 8, 9, 10]\n",
      "[1, 3, 5, 7, 9]\n",
      "[10, 9, 8, 7, 6, 5, 4, 3, 2, 1]\n"
     ]
    }
   ],
   "source": [
    "# slicing list\n",
    "nums = [1,2,3,4,5,6,7,8,9,10]\n",
    "print(nums[2:5])\n",
    "print(nums[:5])\n",
    "print(nums[5:])\n",
    "print(nums[::2]) # double colon :: means all the elements,the 2 represents step size\n",
    "print(nums[::-1]) # shortcut for reversing a list"
   ]
  },
  {
   "cell_type": "code",
   "execution_count": 52,
   "id": "f9afe831",
   "metadata": {},
   "outputs": [
    {
     "name": "stdout",
     "output_type": "stream",
     "text": [
      "[1, 2, 3, 4, 5, 6, 7, 8, 9, 10]\n"
     ]
    }
   ],
   "source": [
    "print(nums[::1])"
   ]
  },
  {
   "cell_type": "code",
   "execution_count": 54,
   "id": "6acbb678",
   "metadata": {},
   "outputs": [
    {
     "name": "stdout",
     "output_type": "stream",
     "text": [
      "1\n",
      "2\n",
      "3\n",
      "4\n",
      "5\n",
      "6\n",
      "7\n",
      "8\n",
      "9\n",
      "10\n"
     ]
    }
   ],
   "source": [
    "for num in nums:\n",
    "    print(num)"
   ]
  },
  {
   "cell_type": "code",
   "execution_count": 56,
   "id": "1faba1b5",
   "metadata": {},
   "outputs": [],
   "source": [
    "fruits = ['apple','banana','cherry','kiwi','gauva']\n"
   ]
  },
  {
   "cell_type": "code",
   "execution_count": 57,
   "id": "2af717c5",
   "metadata": {},
   "outputs": [
    {
     "name": "stdout",
     "output_type": "stream",
     "text": [
      "0 apple\n",
      "1 banana\n",
      "2 cherry\n",
      "3 kiwi\n",
      "4 gauva\n"
     ]
    }
   ],
   "source": [
    "# iterating with an index \n",
    "for index,fruit in enumerate(fruits):\n",
    "    print(index,fruit)"
   ]
  },
  {
   "cell_type": "code",
   "execution_count": 58,
   "id": "515ca30c",
   "metadata": {},
   "outputs": [
    {
     "name": "stdout",
     "output_type": "stream",
     "text": [
      "0 1\n",
      "1 2\n",
      "2 3\n",
      "3 4\n",
      "4 5\n",
      "5 6\n",
      "6 7\n",
      "7 8\n",
      "8 9\n",
      "9 10\n"
     ]
    }
   ],
   "source": [
    "for index,num in enumerate(nums):\n",
    "    print(index,num)"
   ]
  },
  {
   "cell_type": "code",
   "execution_count": 59,
   "id": "956e9fde",
   "metadata": {},
   "outputs": [
    {
     "name": "stdout",
     "output_type": "stream",
     "text": [
      "[0, 1, 4, 9, 16, 25, 36, 49, 64, 81]\n"
     ]
    }
   ],
   "source": [
    "lst = []\n",
    "for x in range(10):\n",
    "    lst.append(x**2)\n",
    "print(lst)"
   ]
  },
  {
   "cell_type": "code",
   "execution_count": 60,
   "id": "7c362dc1",
   "metadata": {},
   "outputs": [
    {
     "name": "stdout",
     "output_type": "stream",
     "text": [
      "[0, 1, 4, 9, 16, 25, 36, 49, 64, 81]\n"
     ]
    }
   ],
   "source": [
    "lst = [x**2 for x in range(10)]\n",
    "print(lst)"
   ]
  },
  {
   "cell_type": "code",
   "execution_count": null,
   "id": "74348811",
   "metadata": {},
   "outputs": [],
   "source": [
    "# list comprehension \n",
    "# Basic syntax [expression for item in iterable]\n",
    "# with conditional logic [expression for item in iterable if condition]\n",
    "# nested list comprehension [expression for item1 in iterable1 for item2 in iterable2]"
   ]
  },
  {
   "cell_type": "code",
   "execution_count": 61,
   "id": "05542717",
   "metadata": {},
   "outputs": [
    {
     "name": "stdout",
     "output_type": "stream",
     "text": [
      "[0, 1, 4, 9, 16, 25, 36, 49, 64, 81]\n"
     ]
    }
   ],
   "source": [
    "# basic list comprehension\n",
    "square = [num**2 for num in range(10)]\n",
    "print(square)"
   ]
  },
  {
   "cell_type": "code",
   "execution_count": 63,
   "id": "ab8c6b3d",
   "metadata": {},
   "outputs": [
    {
     "data": {
      "text/plain": [
       "[0, 2, 4, 6, 8]"
      ]
     },
     "execution_count": 63,
     "metadata": {},
     "output_type": "execute_result"
    }
   ],
   "source": [
    "# list comprehension with comprehension \n",
    "eve_num = [i for i in range(10) if i % 2 == 0]\n",
    "eve_num"
   ]
  },
  {
   "cell_type": "code",
   "execution_count": 1,
   "id": "4fe04a37",
   "metadata": {},
   "outputs": [
    {
     "data": {
      "text/plain": [
       "[[[1, 'a'], [2, 'a'], [3, 'a'], [4, 'a']],\n",
       " [[1, 'b'], [2, 'b'], [3, 'b'], [4, 'b']],\n",
       " [[1, 'c'], [2, 'c'], [3, 'c'], [4, 'c']],\n",
       " [[1, 'd'], [2, 'd'], [3, 'd'], [4, 'd']]]"
      ]
     },
     "execution_count": 1,
     "metadata": {},
     "output_type": "execute_result"
    }
   ],
   "source": [
    "# nested list comprehension \n",
    "lst1 = [1,2,3,4]\n",
    "lst2 = ['a','b','c','d']\n",
    "pair = [[[i,j] for i in lst1] for j in lst2]\n",
    "pair"
   ]
  },
  {
   "cell_type": "code",
   "execution_count": 66,
   "id": "310101f5",
   "metadata": {},
   "outputs": [
    {
     "name": "stdout",
     "output_type": "stream",
     "text": [
      "[5, 5, 4, 13]\n"
     ]
    }
   ],
   "source": [
    "# list comprehension with function calls \n",
    "\n",
    "words = ['hello','world','list','comprehension']\n",
    "lengths = [len(word) for word in words]\n",
    "print(lengths)"
   ]
  },
  {
   "cell_type": "code",
   "execution_count": 68,
   "id": "66b68797",
   "metadata": {},
   "outputs": [
    {
     "name": "stdout",
     "output_type": "stream",
     "text": [
      "[0, 1, 2, 3, 4, 5, 6, 7, 8, 9, 10, 11, 12, 13, 14, 15, 16, 17, 18, 19, 20]\n"
     ]
    }
   ],
   "source": [
    "nums = [int(i) for i in range(21)]\n",
    "print(nums)"
   ]
  },
  {
   "cell_type": "code",
   "execution_count": 69,
   "id": "c2fddc22",
   "metadata": {},
   "outputs": [
    {
     "name": "stdout",
     "output_type": "stream",
     "text": [
      "first element 0\n",
      "last item 20\n",
      "middle element 10\n"
     ]
    }
   ],
   "source": [
    "l = 0\n",
    "h = len(nums) - 1 \n",
    "m = (h - l) // 2\n",
    "print('first element',nums[l]) \n",
    "print('last item',nums[h])\n",
    "print('middle element',nums[m])"
   ]
  },
  {
   "cell_type": "code",
   "execution_count": 71,
   "id": "b649bd90",
   "metadata": {},
   "outputs": [
    {
     "name": "stdout",
     "output_type": "stream",
     "text": [
      "[0, 1, 2, 3, 4]\n",
      "[5, 6, 7, 8, 9, 10, 11, 12, 13, 14]\n"
     ]
    }
   ],
   "source": [
    "print(nums[:5])\n",
    "print(nums[5:15])"
   ]
  },
  {
   "cell_type": "code",
   "execution_count": 72,
   "id": "ab3915a3",
   "metadata": {},
   "outputs": [
    {
     "data": {
      "text/plain": [
       "[0, 1, 4, 9, 16, 25, 36, 49, 64, 81]"
      ]
     },
     "execution_count": 72,
     "metadata": {},
     "output_type": "execute_result"
    }
   ],
   "source": [
    "nums = [i ** 2 for i in range(10)]\n",
    "nums"
   ]
  },
  {
   "cell_type": "code",
   "execution_count": 73,
   "id": "c0d5060f",
   "metadata": {},
   "outputs": [
    {
     "data": {
      "text/plain": [
       "[0, 2, 4, 6, 8]"
      ]
     },
     "execution_count": 73,
     "metadata": {},
     "output_type": "execute_result"
    }
   ],
   "source": [
    "nums = [i for i in range(10) if i % 2 == 0]\n",
    "nums"
   ]
  },
  {
   "cell_type": "code",
   "execution_count": 82,
   "id": "2ad29f69",
   "metadata": {},
   "outputs": [
    {
     "name": "stdout",
     "output_type": "stream",
     "text": [
      "[57, 29, 97, 97, 10, 55, 49, 48, 23, 21]\n",
      "[57, 29, 97, 97, 10, 55, 49, 48, 23, 21]\n",
      "[97, 97, 57, 55, 49, 48, 29, 23, 21, 10]\n",
      "List without any duplicates: [97, 10, 48, 49, 23, 21, 55, 57, 29]\n"
     ]
    }
   ],
   "source": [
    "import random \n",
    "\n",
    "random_list = [random.randint(1,100) for _ in range(10)]\n",
    "print(random_list)\n",
    "\n",
    "sorted_list = sorted(random_list) # Note .sort() sorts the list inplace \n",
    "print(random_list)\n",
    "\n",
    "reversed_list = sorted(random_list,reverse=True)\n",
    "print(reversed_list)\n",
    "\n",
    "random_list = list(set(random_list))\n",
    "print(\"List without any duplicates:\",random_list)"
   ]
  },
  {
   "cell_type": "code",
   "execution_count": 84,
   "id": "ed29a263",
   "metadata": {},
   "outputs": [
    {
     "name": "stdout",
     "output_type": "stream",
     "text": [
      "Frequency of each element {1: 4, 2: 1, 34: 1, 5: 1, 9: 1, 99: 1}\n",
      "[1, 2, 34, 99, 5, 9]\n"
     ]
    }
   ],
   "source": [
    "nums = [1,2,34,5,9,99,1,1,1]\n",
    "dict =  {}\n",
    "for num in nums:\n",
    "    if num in dict:\n",
    "        dict[num] += 1 \n",
    "    else:\n",
    "        dict[num] = 1\n",
    "print(\"Frequency of each element\",dict)\n",
    "list_no_dup = list(set(dict.keys()))\n",
    "print(list_no_dup)"
   ]
  },
  {
   "cell_type": "code",
   "execution_count": 89,
   "id": "996b5e3f",
   "metadata": {},
   "outputs": [
    {
     "name": "stdout",
     "output_type": "stream",
     "text": [
      "[[[0, 0], [0, 1], [0, 2], [0, 3], [0, 4]], [[1, 0], [1, 1], [1, 2], [1, 3], [1, 4]], [[2, 0], [2, 1], [2, 2], [2, 3], [2, 4]], [[3, 0], [3, 1], [3, 2], [3, 3], [3, 4]], [[4, 0], [4, 1], [4, 2], [4, 3], [4, 4]]]\n",
      "[0, 0]\n"
     ]
    }
   ],
   "source": [
    "rows,cols = 5,5\n",
    "mat = [[[r,c] for c in range(cols)] for r in range(rows) ]\n",
    "print(mat)\n",
    "print(mat[0][0])"
   ]
  },
  {
   "cell_type": "code",
   "execution_count": null,
   "id": "02870c03",
   "metadata": {},
   "outputs": [
    {
     "name": "stdout",
     "output_type": "stream",
     "text": [
      "[[1, 2, 3], [4, 5, 6], [7, 8, 9]]\n",
      "[1, 2, 3]\n",
      "[4, 5, 6]\n",
      "[7, 8, 9]\n"
     ]
    }
   ],
   "source": [
    "mat = [[1,2,3],[4,5,6],[7,8,9]]\n",
    "print(mat)\n",
    "for row in mat:\n",
    "    print(row)\n"
   ]
  },
  {
   "cell_type": "code",
   "execution_count": 93,
   "id": "ad32b49e",
   "metadata": {},
   "outputs": [
    {
     "name": "stdout",
     "output_type": "stream",
     "text": [
      "Sorted students by score in descending order:\n",
      "{'name': 'Luke', 'score': 90}\n",
      "{'name': 'Alice', 'score': 88}\n",
      "{'name': 'Ashley', 'score': 32}\n"
     ]
    }
   ],
   "source": [
    "student = [\n",
    "    {'name':'Alice','score':88},\n",
    "    {'name':'Ashley','score':32},\n",
    "    {'name':'Luke','score':90},\n",
    "]\n",
    "\n",
    "sorted_students = sorted(student,key=lambda x:x['score'],reverse=True)\n",
    "print(\"Sorted students by score in descending order:\")\n",
    "for student in sorted_students:\n",
    "    print(student)"
   ]
  },
  {
   "cell_type": "code",
   "execution_count": 103,
   "id": "f4081b63",
   "metadata": {},
   "outputs": [
    {
     "name": "stdout",
     "output_type": "stream",
     "text": [
      "[[1, 2, 3], [4, 5, 6], [7, 8, 9]]\n",
      "[1, 5, 9]\n",
      "[1, 4, 7, 2, 5, 8, 3, 6, 9]\n"
     ]
    }
   ],
   "source": [
    "rows,cols = 3,3\n",
    "mat = [[r*cols + c + 1 for c in range(cols)] for r in range(rows)]\n",
    "print(mat)\n",
    "\n",
    "diagonal = [mat[r][c] for c in range(len(mat[1])) for r in range(len(mat[0])) if mat[r][c] == mat[c][r]]\n",
    "print(diagonal) \n",
    "\n",
    "transpose = [mat[c][r] for r in range(len(mat[0])) for c in range(len(mat[1]))]\n",
    "print(transpose)"
   ]
  },
  {
   "cell_type": "code",
   "execution_count": 107,
   "id": "fb1613e0",
   "metadata": {},
   "outputs": [
    {
     "name": "stdout",
     "output_type": "stream",
     "text": [
      "[[1, 2, 3], [4, 5, 6], [7, 8, 9]]\n"
     ]
    },
    {
     "data": {
      "text/plain": [
       "[1, 2, 3, 4, 5, 6, 7, 8, 9]"
      ]
     },
     "execution_count": 107,
     "metadata": {},
     "output_type": "execute_result"
    }
   ],
   "source": [
    "print(mat)\n",
    "flattened_mat = [item for row in mat for item in row]\n",
    "flattened_mat"
   ]
  },
  {
   "cell_type": "code",
   "execution_count": 108,
   "id": "39137838",
   "metadata": {},
   "outputs": [
    {
     "name": "stdout",
     "output_type": "stream",
     "text": [
      "<zip object at 0x000001E14BA2AC40>\n"
     ]
    }
   ],
   "source": [
    "list1 = range(1,6)\n",
    "list2 = ['a','b','c','d','e']\n",
    "zipped = zip(list1,list2)\n",
    "print(zipped)"
   ]
  },
  {
   "cell_type": "code",
   "execution_count": 109,
   "id": "cdb67291",
   "metadata": {},
   "outputs": [
    {
     "data": {
      "text/plain": [
       "range(5, 0, -1)"
      ]
     },
     "execution_count": 109,
     "metadata": {},
     "output_type": "execute_result"
    }
   ],
   "source": [
    "list1[::-1]"
   ]
  },
  {
   "cell_type": "code",
   "execution_count": 110,
   "id": "047bdae3",
   "metadata": {},
   "outputs": [
    {
     "data": {
      "text/plain": [
       "[2]"
      ]
     },
     "execution_count": 110,
     "metadata": {},
     "output_type": "execute_result"
    }
   ],
   "source": [
    "list1 = [1,2,4]\n",
    "list2 = [2,3,5]\n",
    "items = [i for i in list1 if i in list2]\n",
    "items"
   ]
  }
 ],
 "metadata": {
  "kernelspec": {
   "display_name": "myenv",
   "language": "python",
   "name": "python3"
  },
  "language_info": {
   "codemirror_mode": {
    "name": "ipython",
    "version": 3
   },
   "file_extension": ".py",
   "mimetype": "text/x-python",
   "name": "python",
   "nbconvert_exporter": "python",
   "pygments_lexer": "ipython3",
   "version": "3.12.7"
  }
 },
 "nbformat": 4,
 "nbformat_minor": 5
}
