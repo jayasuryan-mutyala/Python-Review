{
 "cells": [
  {
   "cell_type": "code",
   "execution_count": null,
   "id": "c873070e",
   "metadata": {},
   "outputs": [],
   "source": [
    "# sets are used to store collections of unique items. \n",
    "# They are unordered meaning elements don't follow a specific order and we cant store any duplicate elements\n",
    "# Useful for membership tests, eliminating duplicate entries and performing math operations like union,intersection,difference,symmetric difference"
   ]
  },
  {
   "cell_type": "code",
   "execution_count": 1,
   "id": "cd0f8f4e",
   "metadata": {},
   "outputs": [
    {
     "name": "stdout",
     "output_type": "stream",
     "text": [
      "{1, 2, 3, 4}\n",
      "<class 'set'>\n"
     ]
    }
   ],
   "source": [
    "# create a set \n",
    "my_set = {1,2,3,4}\n",
    "print(my_set)\n",
    "print(type(my_set))"
   ]
  },
  {
   "cell_type": "code",
   "execution_count": 3,
   "id": "94fb9eb6",
   "metadata": {},
   "outputs": [
    {
     "name": "stdout",
     "output_type": "stream",
     "text": [
      "{1, 2, 3, 4}\n",
      "<class 'set'>\n"
     ]
    }
   ],
   "source": [
    "empty_set = set([1,2,3,4])\n",
    "print(empty_set)\n",
    "print(type(empty_set))"
   ]
  },
  {
   "cell_type": "code",
   "execution_count": 4,
   "id": "5e75f098",
   "metadata": {},
   "outputs": [
    {
     "name": "stdout",
     "output_type": "stream",
     "text": [
      "{1, 2, 3, 4}\n"
     ]
    }
   ],
   "source": [
    "my_set = set([1,2,2,3,4,4,1,3]) # we wont have any duplicates \n",
    "print(my_set)\n"
   ]
  },
  {
   "cell_type": "code",
   "execution_count": 5,
   "id": "cdc7f9ad",
   "metadata": {},
   "outputs": [
    {
     "data": {
      "text/plain": [
       "{1, 2, 3, 4}"
      ]
     },
     "execution_count": 5,
     "metadata": {},
     "output_type": "execute_result"
    }
   ],
   "source": [
    "# Basic set operations \n",
    "# adding/removing elements \n",
    "my_set"
   ]
  },
  {
   "cell_type": "code",
   "execution_count": 7,
   "id": "1533f533",
   "metadata": {},
   "outputs": [
    {
     "name": "stdout",
     "output_type": "stream",
     "text": [
      "{1, 2, 3, 4, 5}\n",
      "{1, 2, 3, 4, 5, 6}\n"
     ]
    }
   ],
   "source": [
    "my_set.add(5)\n",
    "print(my_set)\n",
    "my_set.add(6)\n",
    "print(my_set)"
   ]
  },
  {
   "cell_type": "code",
   "execution_count": 8,
   "id": "66a3545a",
   "metadata": {},
   "outputs": [
    {
     "data": {
      "text/plain": [
       "{1, 3, 4, 5, 6}"
      ]
     },
     "execution_count": 8,
     "metadata": {},
     "output_type": "execute_result"
    }
   ],
   "source": [
    "# remove elements \n",
    "my_set.remove(2)\n",
    "my_set"
   ]
  },
  {
   "cell_type": "code",
   "execution_count": null,
   "id": "31c2c3b1",
   "metadata": {},
   "outputs": [],
   "source": [
    "my_set.discard(9) # removes an element if its present. But it doesnt raise an error"
   ]
  },
  {
   "cell_type": "code",
   "execution_count": null,
   "id": "94614d42",
   "metadata": {},
   "outputs": [
    {
     "name": "stdout",
     "output_type": "stream",
     "text": [
      "1\n",
      "{3, 4, 5, 6}\n"
     ]
    }
   ],
   "source": [
    "# pop \n",
    "removed_element = my_set.pop() # first in first out\n",
    "print(removed_element)\n",
    "print(my_set)"
   ]
  },
  {
   "cell_type": "code",
   "execution_count": 12,
   "id": "f3dc3cb9",
   "metadata": {},
   "outputs": [
    {
     "name": "stdout",
     "output_type": "stream",
     "text": [
      "set()\n"
     ]
    }
   ],
   "source": [
    "# clear all elements in the set \n",
    "my_set.clear()\n",
    "print(my_set)"
   ]
  },
  {
   "cell_type": "code",
   "execution_count": 13,
   "id": "323d1f12",
   "metadata": {},
   "outputs": [
    {
     "name": "stdout",
     "output_type": "stream",
     "text": [
      "True\n",
      "False\n"
     ]
    }
   ],
   "source": [
    "# set membership test \n",
    "my_set = {1,2,3,4,5}\n",
    "print(3 in my_set)\n",
    "print(10 in my_set)"
   ]
  },
  {
   "cell_type": "code",
   "execution_count": null,
   "id": "3695111c",
   "metadata": {},
   "outputs": [
    {
     "name": "stdout",
     "output_type": "stream",
     "text": [
      "{1, 2, 3, 4, 5, 6, 7, 8, 9}\n",
      "{4, 5, 6}\n",
      "{4, 5, 6}\n"
     ]
    }
   ],
   "source": [
    "# math operations\n",
    "set1 = {1,2,3,4,5,6}\n",
    "set2 = {4,5,6,7,8,9}\n",
    "\n",
    "# union oper \n",
    "union_set = set1.union(set2)\n",
    "print(union_set)\n",
    "\n",
    "# intersection oper\n",
    "inter_set = set1.intersection(set2)\n",
    "print(inter_set)\n",
    "\n",
    "# intersection_update\n",
    "set1.intersection_update(set2) # set1 gets updated with only the intersection elements\n",
    "print(set1)"
   ]
  },
  {
   "cell_type": "code",
   "execution_count": null,
   "id": "4ebae6ff",
   "metadata": {},
   "outputs": [
    {
     "data": {
      "text/plain": [
       "{1, 2, 3}"
      ]
     },
     "execution_count": 17,
     "metadata": {},
     "output_type": "execute_result"
    }
   ],
   "source": [
    "# Difference\n",
    "set1 = {1,2,3,4,5,6}\n",
    "set2 = {4,5,6,7,8,9}\n",
    "set1.difference(set2) \n",
    "# returns a new set containing all elements in set1 but not in set2 \n",
    "# output = {1,2,3}"
   ]
  },
  {
   "cell_type": "code",
   "execution_count": 18,
   "id": "7497a078",
   "metadata": {},
   "outputs": [
    {
     "data": {
      "text/plain": [
       "{7, 8, 9}"
      ]
     },
     "execution_count": 18,
     "metadata": {},
     "output_type": "execute_result"
    }
   ],
   "source": [
    "set2.difference(set1)"
   ]
  },
  {
   "cell_type": "code",
   "execution_count": null,
   "id": "ef9da86a",
   "metadata": {},
   "outputs": [
    {
     "data": {
      "text/plain": [
       "{1, 2, 3, 7, 8, 9}"
      ]
     },
     "execution_count": 19,
     "metadata": {},
     "output_type": "execute_result"
    }
   ],
   "source": [
    "# symmetric difference\n",
    "set1.symmetric_difference(set2) # common elements in both sets are removed \n"
   ]
  },
  {
   "cell_type": "code",
   "execution_count": 23,
   "id": "7e84745b",
   "metadata": {},
   "outputs": [
    {
     "name": "stdout",
     "output_type": "stream",
     "text": [
      "False\n",
      "True\n"
     ]
    }
   ],
   "source": [
    "# set methods \n",
    "set1 = {1,2,3,4,5}\n",
    "set2 = {3,4,5}\n",
    "# check if set1 is a subset of set2 \n",
    "print(set1.issubset(set2))\n",
    "# check if set1 is a superset of set2 \n",
    "print(set1.issuperset(set2))"
   ]
  },
  {
   "cell_type": "code",
   "execution_count": 24,
   "id": "57b5da41",
   "metadata": {},
   "outputs": [
    {
     "data": {
      "text/plain": [
       "{1, 2, 3, 4, 5, 6}"
      ]
     },
     "execution_count": 24,
     "metadata": {},
     "output_type": "execute_result"
    }
   ],
   "source": [
    "lst = [1,2,2,3,4,5,5,6]\n",
    "set(lst)"
   ]
  },
  {
   "cell_type": "code",
   "execution_count": 25,
   "id": "d3744192",
   "metadata": {},
   "outputs": [
    {
     "name": "stdout",
     "output_type": "stream",
     "text": [
      "['In', 'this', 'tutorial', 'we', 'are', 'discussing', 'about', 'the', 'sets']\n",
      "{'we', 'tutorial', 'the', 'In', 'sets', 'this', 'about', 'are', 'discussing'}\n",
      "9\n"
     ]
    }
   ],
   "source": [
    "# counting unique words into text \n",
    "\n",
    "text = \"In this tutorial we are discussing about the sets\"\n",
    "words = text.split()\n",
    "print(words)\n",
    "\n",
    "# convert the list of words to get unique words\n",
    "unique_words = set(words)\n",
    "print(unique_words)\n",
    "print(len(unique_words))"
   ]
  },
  {
   "cell_type": "code",
   "execution_count": null,
   "id": "80da221c",
   "metadata": {},
   "outputs": [
    {
     "name": "stdout",
     "output_type": "stream",
     "text": [
      "{64, 1, 4, 36, 100, 9, 16, 49, 81, 25}\n"
     ]
    }
   ],
   "source": [
    "# create a set of first 10 +ve nums\n",
    "nums = [x**2 for x in range(1,11)]\n",
    "nums = set(nums)\n",
    "print(nums)"
   ]
  },
  {
   "cell_type": "code",
   "execution_count": 4,
   "id": "fc49a0f6",
   "metadata": {},
   "outputs": [
    {
     "name": "stdout",
     "output_type": "stream",
     "text": [
      "{64, 4, 36, 100, 9, 11, 16, 49, 81, 25}\n"
     ]
    }
   ],
   "source": [
    "# add 11 to set \n",
    "nums.add(11)\n",
    "nums.remove(1)\n",
    "print(nums)\n"
   ]
  },
  {
   "cell_type": "code",
   "execution_count": 9,
   "id": "71a8d2e7",
   "metadata": {},
   "outputs": [
    {
     "name": "stdout",
     "output_type": "stream",
     "text": [
      "{1, 4, 9, 16, 25}\n",
      "{64, 36, 100, 49, 81}\n",
      "{64, 1, 4, 36, 100, 9, 16, 49, 81, 25}\n",
      "set()\n",
      "{1, 4, 9, 16, 25}\n",
      "{64, 1, 4, 9, 16, 81, 25, 36, 100, 49}\n"
     ]
    }
   ],
   "source": [
    "# perform union,intersection,difference,symmetirc difference operations on these sets\n",
    "nums_5 = set([i**2 for i in range(1,6)])\n",
    "nums_10 = set([i**2 for i in range(6,11)])\n",
    "print(nums_5)\n",
    "print(nums_10)\n",
    "union_set = nums_5.union(nums_10)\n",
    "print(union_set)\n",
    "intersection_set = nums_5.intersection(nums_10)\n",
    "print(intersection_set)\n",
    "difference_set = nums_5.difference(nums_10) # return items that only exist in nums_5 not nums_10\n",
    "print(difference_set)\n",
    "sym_set = nums_5.symmetric_difference(nums_10)\n",
    "print(sym_set)\n"
   ]
  },
  {
   "cell_type": "code",
   "execution_count": null,
   "id": "2aeb73e0",
   "metadata": {},
   "outputs": [],
   "source": [
    "# frozen set \n"
   ]
  }
 ],
 "metadata": {
  "kernelspec": {
   "display_name": "myenv",
   "language": "python",
   "name": "python3"
  },
  "language_info": {
   "codemirror_mode": {
    "name": "ipython",
    "version": 3
   },
   "file_extension": ".py",
   "mimetype": "text/x-python",
   "name": "python",
   "nbconvert_exporter": "python",
   "pygments_lexer": "ipython3",
   "version": "3.12.7"
  }
 },
 "nbformat": 4,
 "nbformat_minor": 5
}
