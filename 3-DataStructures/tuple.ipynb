{
 "cells": [
  {
   "cell_type": "code",
   "execution_count": null,
   "id": "b247dafa",
   "metadata": {},
   "outputs": [],
   "source": [
    "# Tuples are ordered collections of items that are immutable (unable to be changed)\n",
    "# Similar to lists but their immutability makes them different"
   ]
  },
  {
   "cell_type": "code",
   "execution_count": null,
   "id": "f26d36fd",
   "metadata": {},
   "outputs": [],
   "source": [
    "# methods\n"
   ]
  },
  {
   "cell_type": "code",
   "execution_count": 1,
   "id": "beab4927",
   "metadata": {},
   "outputs": [
    {
     "name": "stdout",
     "output_type": "stream",
     "text": [
      "()\n",
      "<class 'tuple'>\n"
     ]
    }
   ],
   "source": [
    "# creating a tuple \n",
    "empty_tuple = ()\n",
    "print(empty_tuple)\n",
    "print(type(empty_tuple))"
   ]
  },
  {
   "cell_type": "code",
   "execution_count": 2,
   "id": "fe5ba330",
   "metadata": {},
   "outputs": [
    {
     "name": "stdout",
     "output_type": "stream",
     "text": [
      "<class 'list'>\n",
      "<class 'tuple'>\n"
     ]
    }
   ],
   "source": [
    "lst = list()\n",
    "print(type(lst))\n",
    "tpl = tuple()\n",
    "print(type(tpl)) "
   ]
  },
  {
   "cell_type": "code",
   "execution_count": 3,
   "id": "aaba7008",
   "metadata": {},
   "outputs": [
    {
     "data": {
      "text/plain": [
       "(1, 2, 3, 4, 5, 6)"
      ]
     },
     "execution_count": 3,
     "metadata": {},
     "output_type": "execute_result"
    }
   ],
   "source": [
    "nums = tuple([1,2,3,4,5,6])\n",
    "nums"
   ]
  },
  {
   "cell_type": "code",
   "execution_count": 4,
   "id": "96f224ba",
   "metadata": {},
   "outputs": [
    {
     "data": {
      "text/plain": [
       "[1, 2, 3, 4, 5, 6]"
      ]
     },
     "execution_count": 4,
     "metadata": {},
     "output_type": "execute_result"
    }
   ],
   "source": [
    "list(nums)"
   ]
  },
  {
   "cell_type": "code",
   "execution_count": 6,
   "id": "e7fec8aa",
   "metadata": {},
   "outputs": [
    {
     "name": "stdout",
     "output_type": "stream",
     "text": [
      "(1, 'Hello World', 3.14, True)\n"
     ]
    }
   ],
   "source": [
    "mixed_tuple = (1,\"Hello World\",3.14,True)\n",
    "print(mixed_tuple)"
   ]
  },
  {
   "cell_type": "code",
   "execution_count": 12,
   "id": "2dfe029b",
   "metadata": {},
   "outputs": [
    {
     "name": "stdout",
     "output_type": "stream",
     "text": [
      "(1, 2, 3, 4, 5, 6)\n",
      "1\n",
      "3\n",
      "6\n",
      "(1, 2, 3, 4)\n",
      "(6, 5, 4, 3, 2, 1)\n"
     ]
    }
   ],
   "source": [
    "# Accessing tuple elements\n",
    "# indexing and slicing is similar to a list \n",
    "print(nums)\n",
    "print(nums[0])\n",
    "print(nums[2])\n",
    "print(nums[-1])\n",
    "print(nums[0:4])\n",
    "print(nums[::-1])"
   ]
  },
  {
   "cell_type": "code",
   "execution_count": 13,
   "id": "da16c4b6",
   "metadata": {},
   "outputs": [
    {
     "name": "stdout",
     "output_type": "stream",
     "text": [
      "(1, 2, 3, 4, 5, 6, 1, 'Hello World', 3.14, True)\n"
     ]
    }
   ],
   "source": [
    "# Concatenation \n",
    "concatenation_tuple = nums + mixed_tuple\n",
    "print(concatenation_tuple)"
   ]
  },
  {
   "cell_type": "code",
   "execution_count": 14,
   "id": "dafe378f",
   "metadata": {},
   "outputs": [
    {
     "data": {
      "text/plain": [
       "(1, 2, 3, 4, 5, 6, 1, 2, 3, 4, 5, 6, 1, 2, 3, 4, 5, 6)"
      ]
     },
     "execution_count": 14,
     "metadata": {},
     "output_type": "execute_result"
    }
   ],
   "source": [
    "nums*3"
   ]
  },
  {
   "cell_type": "code",
   "execution_count": null,
   "id": "e81c8a3c",
   "metadata": {},
   "outputs": [
    {
     "name": "stdout",
     "output_type": "stream",
     "text": [
      "(1, 2, 3, 4, 5, 6)\n"
     ]
    }
   ],
   "source": [
    "# immutable nature of tuples \n",
    "# immutables: elements cannot be changed once they are assigned \n",
    "print(nums)\n",
    "# nums[-1] = 10 # Results in TypeError\n",
    "# if we want to make changes we can convert it into a list anmd convert it back to tuple\n"
   ]
  },
  {
   "cell_type": "code",
   "execution_count": null,
   "id": "ed61275f",
   "metadata": {},
   "outputs": [
    {
     "name": "stdout",
     "output_type": "stream",
     "text": [
      "(1, 2, 3, 4, 5, 6)\n",
      "1\n",
      "2\n"
     ]
    }
   ],
   "source": [
    "# tuple methods \n",
    "print(nums)\n",
    "# count()\n",
    "print(nums.count(1)) # returns the count of an element in tuple \n",
    "print(nums.index(3)) # returns the first index of that value"
   ]
  },
  {
   "cell_type": "code",
   "execution_count": 21,
   "id": "dbf736e1",
   "metadata": {},
   "outputs": [
    {
     "name": "stdout",
     "output_type": "stream",
     "text": [
      "(1, 'Hello', 3.14)\n"
     ]
    }
   ],
   "source": [
    "# packing and unpacking tuple \n",
    "packed_tuple = 1,\"Hello\",3.14\n",
    "print(packed_tuple)"
   ]
  },
  {
   "cell_type": "code",
   "execution_count": 22,
   "id": "bb80d272",
   "metadata": {},
   "outputs": [
    {
     "name": "stdout",
     "output_type": "stream",
     "text": [
      "1\n",
      "Hello\n",
      "3.14\n"
     ]
    }
   ],
   "source": [
    "# Unpacking a tuple \n",
    "a,b,c = packed_tuple\n",
    "print(a)\n",
    "print(b)\n",
    "print(c)"
   ]
  },
  {
   "cell_type": "code",
   "execution_count": 23,
   "id": "8e87c157",
   "metadata": {},
   "outputs": [
    {
     "name": "stdout",
     "output_type": "stream",
     "text": [
      "1\n",
      "[2, 3, 4, 5]\n",
      "6\n"
     ]
    }
   ],
   "source": [
    "nums =  (1,2,3,4,5,6)\n",
    "first,*middle,last = nums\n",
    "print(first)\n",
    "print(middle)\n",
    "print(last)"
   ]
  },
  {
   "cell_type": "code",
   "execution_count": 27,
   "id": "3318db07",
   "metadata": {},
   "outputs": [
    {
     "name": "stdout",
     "output_type": "stream",
     "text": [
      "[1, 2, 3, 4]\n",
      "3\n",
      "[1, 2, 3]\n"
     ]
    }
   ],
   "source": [
    "# nested tuple \n",
    "# nested list\n",
    "lst = [[1,2,3,4],[5,6,7,8],[1,'Hello',3.14,'c']]\n",
    "print(lst[0])\n",
    "print(lst[0][2])\n",
    "print(lst[0][0:3])"
   ]
  },
  {
   "cell_type": "code",
   "execution_count": 29,
   "id": "ed496aaa",
   "metadata": {},
   "outputs": [
    {
     "name": "stdout",
     "output_type": "stream",
     "text": [
      "(1, 'Hello', 3.14)\n"
     ]
    }
   ],
   "source": [
    "lst = [[1,2,3,4],[5,6,7,8],(1,'Hello',3.14,'c')]\n",
    "print(lst[2][0:3])"
   ]
  },
  {
   "cell_type": "code",
   "execution_count": 30,
   "id": "e2d2a968",
   "metadata": {},
   "outputs": [
    {
     "name": "stdout",
     "output_type": "stream",
     "text": [
      "(1, 2, 3)\n",
      "c\n"
     ]
    }
   ],
   "source": [
    "nested_tuple = ((1,2,3),('a','b','c'),(True,False))\n",
    "print(nested_tuple[0])\n",
    "print(nested_tuple[1][2])"
   ]
  },
  {
   "cell_type": "code",
   "execution_count": 32,
   "id": "2de99098",
   "metadata": {},
   "outputs": [
    {
     "name": "stdout",
     "output_type": "stream",
     "text": [
      "1 2 3 \n",
      "a b c \n",
      "True False \n"
     ]
    }
   ],
   "source": [
    "# iterating in nested tuple \n",
    "for sub_tuple in nested_tuple:\n",
    "    for item in sub_tuple:\n",
    "        print(item,end=' ')\n",
    "    print()\n"
   ]
  },
  {
   "cell_type": "code",
   "execution_count": 37,
   "id": "ed91b935",
   "metadata": {},
   "outputs": [
    {
     "name": "stdout",
     "output_type": "stream",
     "text": [
      "(1, 2, 3, 4, 5, 6, 7, 8, 9, 10)\n"
     ]
    }
   ],
   "source": [
    "# create a tuple with first 10 positive integers \n",
    "nums = [i for i in range(1,11)]\n",
    "nums = tuple(nums)\n",
    "print(nums)"
   ]
  },
  {
   "cell_type": "code",
   "execution_count": 39,
   "id": "22b6a448",
   "metadata": {},
   "outputs": [
    {
     "name": "stdout",
     "output_type": "stream",
     "text": [
      "1\n",
      "10\n",
      "5\n"
     ]
    }
   ],
   "source": [
    "# print the first,middle and last element\n",
    "l = 0\n",
    "h = len(nums) - 1\n",
    "m = (l + h) // 2\n",
    "print(nums[0])\n",
    "print(nums[h])\n",
    "print(nums[m])"
   ]
  },
  {
   "cell_type": "code",
   "execution_count": 41,
   "id": "ff422a19",
   "metadata": {},
   "outputs": [
    {
     "name": "stdout",
     "output_type": "stream",
     "text": [
      "(1, 2, 3)\n",
      "(7, 8, 9)\n",
      "(3, 4, 5)\n"
     ]
    }
   ],
   "source": [
    "# print 1st 3 elements, last 3 elements and the elements from 2 to 5 index\n",
    "print(nums[0:3])\n",
    "print(nums[-4:-1])\n",
    "print(nums[2:5])"
   ]
  },
  {
   "cell_type": "code",
   "execution_count": 54,
   "id": "bfe38e7f",
   "metadata": {},
   "outputs": [
    {
     "name": "stdout",
     "output_type": "stream",
     "text": [
      "[[(0, 0), (0, 1), (0, 2)], [(1, 0), (1, 1), (1, 2)], [(2, 0), (2, 1), (2, 2)]]\n",
      "(2, 2)\n"
     ]
    }
   ],
   "source": [
    "# create a nested tuple representing a 3,3 mat and print the mat. \n",
    "# Access and print the element at the 2nd row and the third column \n",
    "\n",
    "rows,cols = 3,3\n",
    "mat = [[(r,c) for c in range(cols)] for r in range(rows)]\n",
    "print(mat)\n",
    "print(mat[2][-1])"
   ]
  },
  {
   "cell_type": "code",
   "execution_count": 57,
   "id": "f49e067c",
   "metadata": {},
   "outputs": [
    {
     "name": "stdout",
     "output_type": "stream",
     "text": [
      "0\n"
     ]
    }
   ],
   "source": [
    "# representing a 3,3 mat and \n",
    "nums = (1,1,2,4,5)\n",
    "print(nums.index(1))"
   ]
  },
  {
   "cell_type": "code",
   "execution_count": 58,
   "id": "6714291f",
   "metadata": {},
   "outputs": [
    {
     "name": "stdout",
     "output_type": "stream",
     "text": [
      "1\n",
      "2\n",
      "3\n",
      "4\n",
      "5\n"
     ]
    }
   ],
   "source": [
    "nums = (1,2,3,4,5)\n",
    "a,b,c,d,e = nums\n",
    "print(a)\n",
    "print(b)\n",
    "print(c)\n",
    "print(d)\n",
    "print(e)"
   ]
  },
  {
   "cell_type": "code",
   "execution_count": 59,
   "id": "742cb733",
   "metadata": {},
   "outputs": [
    {
     "data": {
      "text/plain": [
       "(1, 2, 3, 4, 5, 6)"
      ]
     },
     "execution_count": 59,
     "metadata": {},
     "output_type": "execute_result"
    }
   ],
   "source": [
    "concat_tuple = (1,2,3) + (4,5,6)\n",
    "concat_tuple"
   ]
  },
  {
   "cell_type": "code",
   "execution_count": 61,
   "id": "141ca331",
   "metadata": {},
   "outputs": [
    {
     "name": "stdout",
     "output_type": "stream",
     "text": [
      "(1, 2, 3, 4, 5)\n"
     ]
    }
   ],
   "source": [
    "nums = tuple(list(range(1,6)))\n",
    "print(nums)"
   ]
  },
  {
   "cell_type": "code",
   "execution_count": null,
   "id": "46a838aa",
   "metadata": {},
   "outputs": [
    {
     "data": {
      "text/plain": [
       "([(0, 0, 0), (0, 1, 1), (0, 2, 2)],\n",
       " [(1, 0, 3), (1, 1, 4), (1, 2, 5)],\n",
       " [(2, 0, 6), (2, 1, 7), (2, 2, 8)])"
      ]
     },
     "execution_count": 63,
     "metadata": {},
     "output_type": "execute_result"
    }
   ],
   "source": [
    "rows,cols = 3,3\n",
    "tup_arr = [[(r,c,r*cols+c) for c in range(cols)] for r in range(rows)]\n",
    "tup_arr = tuple(tup_arr)\n",
    "print(tup_arr)"
   ]
  },
  {
   "cell_type": "code",
   "execution_count": 64,
   "id": "b025a2f1",
   "metadata": {},
   "outputs": [
    {
     "name": "stdout",
     "output_type": "stream",
     "text": [
      "(1, 2, 3, 4, 5)\n",
      "(1, 2, 3, 4, 5, 6)\n"
     ]
    }
   ],
   "source": [
    "pos_5_tup = (1,2,3,4,5)\n",
    "pos_5_lst = list(pos_5_tup)\n",
    "print(pos_5_tup)\n",
    "pos_5_lst.append(6)\n",
    "pos_5_tup = tuple(pos_5_lst)\n",
    "print(pos_5_tup)"
   ]
  },
  {
   "cell_type": "code",
   "execution_count": 65,
   "id": "a7767af6",
   "metadata": {},
   "outputs": [
    {
     "name": "stdout",
     "output_type": "stream",
     "text": [
      "1\n",
      "2\n",
      "3\n",
      "4\n",
      "5\n",
      "6\n"
     ]
    }
   ],
   "source": [
    "nested_tuple = ((1,2,3),(4,5,6))\n",
    "for tuple in nested_tuple:\n",
    "    for num in tuple:\n",
    "        print(num)"
   ]
  },
  {
   "cell_type": "code",
   "execution_count": 66,
   "id": "4e20619b",
   "metadata": {},
   "outputs": [
    {
     "data": {
      "text/plain": [
       "{1, 2, 4, 5, 56}"
      ]
     },
     "execution_count": 66,
     "metadata": {},
     "output_type": "execute_result"
    }
   ],
   "source": [
    "dup_tup = (1,2,2,4,5,56)\n",
    "set(dup_tup)"
   ]
  },
  {
   "cell_type": "code",
   "execution_count": 68,
   "id": "4e10de7b",
   "metadata": {},
   "outputs": [
    {
     "name": "stdout",
     "output_type": "stream",
     "text": [
      "6 1 18\n"
     ]
    }
   ],
   "source": [
    "def compute(nums):\n",
    "    max_num = max(nums)\n",
    "    min_num = min(nums)\n",
    "    sum_num = sum(nums)\n",
    "    return max_num,min_num,sum_num\n",
    "\n",
    "nums = (1,2,4,5,6)\n",
    "max_num,min_num,sum_num = compute(nums)\n",
    "print(max_num,min_num,sum_num)"
   ]
  }
 ],
 "metadata": {
  "kernelspec": {
   "display_name": "myenv",
   "language": "python",
   "name": "python3"
  },
  "language_info": {
   "codemirror_mode": {
    "name": "ipython",
    "version": 3
   },
   "file_extension": ".py",
   "mimetype": "text/x-python",
   "name": "python",
   "nbconvert_exporter": "python",
   "pygments_lexer": "ipython3",
   "version": "3.12.7"
  }
 },
 "nbformat": 4,
 "nbformat_minor": 5
}
