{
 "cells": [
  {
   "cell_type": "code",
   "execution_count": 1,
   "id": "edcf2851",
   "metadata": {},
   "outputs": [
    {
     "name": "stdout",
     "output_type": "stream",
     "text": [
      "Hello World!\n",
      "this is a new line\n"
     ]
    }
   ],
   "source": [
    "# Python provides the build in functions to read and write to files in both text and binary \n",
    "\n",
    "with open('example.txt','r') as file:\n",
    "    content = file.read() # reads the file\n",
    "    print(content)\n",
    "\n"
   ]
  },
  {
   "cell_type": "code",
   "execution_count": 2,
   "id": "7825ef11",
   "metadata": {},
   "outputs": [
    {
     "name": "stdout",
     "output_type": "stream",
     "text": [
      "Hello World!\n",
      "\n",
      "this is a new line\n"
     ]
    }
   ],
   "source": [
    "# Read a file line by line \n",
    "with open('example.txt','r') as file:\n",
    "    for line in file:\n",
    "        print(line)"
   ]
  },
  {
   "cell_type": "code",
   "execution_count": 3,
   "id": "730470d4",
   "metadata": {},
   "outputs": [
    {
     "name": "stdout",
     "output_type": "stream",
     "text": [
      "Hello World!\n",
      "this is a new line\n"
     ]
    }
   ],
   "source": [
    "# if we want to remove the newline '\\n' \n",
    "with open('example.txt','r') as file:\n",
    "    for line in file:\n",
    "        print(line.strip()) # strip removes the \\n"
   ]
  },
  {
   "cell_type": "code",
   "execution_count": 4,
   "id": "26e75726",
   "metadata": {},
   "outputs": [],
   "source": [
    "# Writing the file (overwriting)\n",
    "\n",
    "with open('example.txt','w') as file:\n",
    "    file.write('Hello World!\\n')\n",
    "    file.write('this is a new line')"
   ]
  },
  {
   "cell_type": "code",
   "execution_count": null,
   "id": "45a67dbf",
   "metadata": {},
   "outputs": [],
   "source": [
    "# Writing file (without overwriting) 'a' stands for append mode\n",
    "with open('example.txt','a') as file:\n",
    "    file.write('Append operation taking place\\n')\n"
   ]
  },
  {
   "cell_type": "code",
   "execution_count": 6,
   "id": "6a51c8a5",
   "metadata": {},
   "outputs": [],
   "source": [
    "# Writing a list of lines to a file \n",
    "lines = ['First line \\n','Second line \\n','Third line \\n']\n",
    "with open('example.txt','a') as file:\n",
    "    file.writelines(lines) "
   ]
  },
  {
   "cell_type": "code",
   "execution_count": 9,
   "id": "920dfd89",
   "metadata": {},
   "outputs": [],
   "source": [
    "# Binary files (.bin files)\n",
    "# we update bytes\n",
    "data = b'\\x00\\x01\\x02\\x03\\x04\\x05'\n",
    "with open('example.bin','wb') as file:\n",
    "    file.write(data)"
   ]
  },
  {
   "cell_type": "code",
   "execution_count": 11,
   "id": "c122d8ec",
   "metadata": {},
   "outputs": [],
   "source": [
    "# Read content from a src text file and write to a destination text file \n",
    "\n",
    "with open('example.txt','r') as source_file:\n",
    "    content = source_file.read()\n",
    "\n",
    "with open('destination.txt','w') as dst_file:\n",
    "    dst_file.write(content)"
   ]
  },
  {
   "cell_type": "code",
   "execution_count": null,
   "id": "34a59d7f",
   "metadata": {},
   "outputs": [
    {
     "name": "stdout",
     "output_type": "stream",
     "text": [
      "5\n",
      "number of lines: 5\n",
      "Hello World!\n",
      " this is a new lineAppend operation taking place\n",
      " First line \n",
      " Second line \n",
      " Third line \n",
      "\n",
      "number of words: 16\n",
      "{'H': 1, 'e': 10, 'l': 8, 'o': 5, ' ': 18, 'W': 1, 'r': 4, 'd': 4, '!': 1, '\\n': 5, 't': 4, 'h': 2, 'i': 10, 's': 3, 'a': 4, 'n': 9, 'w': 1, 'A': 1, 'p': 4, 'k': 1, 'g': 1, 'c': 2, 'F': 1, 'S': 1, 'T': 1}\n"
     ]
    }
   ],
   "source": [
    "# Read a text file count the num of lines,words,characters\n",
    "num_chars = {}\n",
    "with open('example.txt','r') as file:\n",
    "    lines = file.readlines()\n",
    "line_count = len(lines)\n",
    "print(line_count)\n",
    "print(\"number of lines:\",line_count)\n",
    "\n",
    "str_lines = ' '.join(lines) \n",
    "# join method converts a list into string\n",
    "print(str_lines)\n",
    "words = str_lines.split()\n",
    "num_words = len(words)\n",
    "print('number of words:',num_words)\n",
    "\n",
    "for s in str_lines:\n",
    "    if s in num_chars:\n",
    "        num_chars[s] += 1 \n",
    "    else:\n",
    "        num_chars[s] = 1\n",
    "print(num_chars)\n",
    "\n",
    "    \n"
   ]
  },
  {
   "cell_type": "code",
   "execution_count": 32,
   "id": "e02722e8",
   "metadata": {},
   "outputs": [
    {
     "name": "stdout",
     "output_type": "stream",
     "text": [
      "Hello Word\n",
      "This is a new line\n",
      "\n"
     ]
    }
   ],
   "source": [
    "# Writing and then reading a file \n",
    "# w+ mode allows you to read and write files \n",
    "# if file doesnt exist it will be created\n",
    "# if file exists then it will be overwritten\n",
    "with open('example.txt','w+') as file:\n",
    "    file.write('Hello Word\\n')\n",
    "    file.write('This is a new line\\n')\n",
    "\n",
    "    # move the file cursor to the first line we can file.seek()\n",
    "    file.seek(0)\n",
    "\n",
    "    # Read the content \n",
    "    content = file.read()\n",
    "    print(content)\n"
   ]
  }
 ],
 "metadata": {
  "kernelspec": {
   "display_name": "myenv",
   "language": "python",
   "name": "python3"
  },
  "language_info": {
   "codemirror_mode": {
    "name": "ipython",
    "version": 3
   },
   "file_extension": ".py",
   "mimetype": "text/x-python",
   "name": "python",
   "nbconvert_exporter": "python",
   "pygments_lexer": "ipython3",
   "version": "3.12.7"
  }
 },
 "nbformat": 4,
 "nbformat_minor": 5
}
